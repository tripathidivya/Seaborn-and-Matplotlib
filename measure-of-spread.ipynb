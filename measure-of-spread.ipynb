{
 "cells": [
  {
   "cell_type": "code",
   "execution_count": 1,
   "id": "2d49db18",
   "metadata": {
    "_cell_guid": "b1076dfc-b9ad-4769-8c92-a6c4dae69d19",
    "_uuid": "8f2839f25d086af736a60e9eeb907d3b93b6e0e5",
    "execution": {
     "iopub.execute_input": "2024-05-23T12:09:52.623652Z",
     "iopub.status.busy": "2024-05-23T12:09:52.622541Z",
     "iopub.status.idle": "2024-05-23T12:09:53.622923Z",
     "shell.execute_reply": "2024-05-23T12:09:53.621383Z"
    },
    "papermill": {
     "duration": 1.015526,
     "end_time": "2024-05-23T12:09:53.626032",
     "exception": false,
     "start_time": "2024-05-23T12:09:52.610506",
     "status": "completed"
    },
    "tags": []
   },
   "outputs": [
    {
     "name": "stdout",
     "output_type": "stream",
     "text": [
      "/kaggle/input/iris-dataset/iris.csv\n"
     ]
    }
   ],
   "source": [
    "# This Python 3 environment comes with many helpful analytics libraries installed\n",
    "# It is defined by the kaggle/python Docker image: https://github.com/kaggle/docker-python\n",
    "# For example, here's several helpful packages to load\n",
    "\n",
    "import numpy as np # linear algebra\n",
    "import pandas as pd # data processing, CSV file I/O (e.g. pd.read_csv)\n",
    "\n",
    "# Input data files are available in the read-only \"../input/\" directory\n",
    "# For example, running this (by clicking run or pressing Shift+Enter) will list all files under the input directory\n",
    "\n",
    "import os\n",
    "for dirname, _, filenames in os.walk('/kaggle/input'):\n",
    "    for filename in filenames:\n",
    "        print(os.path.join(dirname, filename))\n",
    "\n",
    "# You can write up to 20GB to the current directory (/kaggle/working/) that gets preserved as output when you create a version using \"Save & Run All\" \n",
    "# You can also write temporary files to /kaggle/temp/, but they won't be saved outside of the current session"
   ]
  },
  {
   "cell_type": "code",
   "execution_count": 2,
   "id": "92dc5228",
   "metadata": {
    "execution": {
     "iopub.execute_input": "2024-05-23T12:09:53.646380Z",
     "iopub.status.busy": "2024-05-23T12:09:53.645833Z",
     "iopub.status.idle": "2024-05-23T12:09:55.213813Z",
     "shell.execute_reply": "2024-05-23T12:09:55.212509Z"
    },
    "papermill": {
     "duration": 1.582834,
     "end_time": "2024-05-23T12:09:55.217819",
     "exception": false,
     "start_time": "2024-05-23T12:09:53.634985",
     "status": "completed"
    },
    "tags": []
   },
   "outputs": [],
   "source": [
    "import pandas as pd\n",
    "import numpy as np\n",
    "import seaborn as sns\n",
    "import matplotlib.pyplot as plt"
   ]
  },
  {
   "cell_type": "code",
   "execution_count": 3,
   "id": "100b96c4",
   "metadata": {
    "execution": {
     "iopub.execute_input": "2024-05-23T12:09:55.239439Z",
     "iopub.status.busy": "2024-05-23T12:09:55.238929Z",
     "iopub.status.idle": "2024-05-23T12:09:55.287645Z",
     "shell.execute_reply": "2024-05-23T12:09:55.286339Z"
    },
    "papermill": {
     "duration": 0.062609,
     "end_time": "2024-05-23T12:09:55.290681",
     "exception": false,
     "start_time": "2024-05-23T12:09:55.228072",
     "status": "completed"
    },
    "tags": []
   },
   "outputs": [
    {
     "data": {
      "text/html": [
       "<div>\n",
       "<style scoped>\n",
       "    .dataframe tbody tr th:only-of-type {\n",
       "        vertical-align: middle;\n",
       "    }\n",
       "\n",
       "    .dataframe tbody tr th {\n",
       "        vertical-align: top;\n",
       "    }\n",
       "\n",
       "    .dataframe thead th {\n",
       "        text-align: right;\n",
       "    }\n",
       "</style>\n",
       "<table border=\"1\" class=\"dataframe\">\n",
       "  <thead>\n",
       "    <tr style=\"text-align: right;\">\n",
       "      <th></th>\n",
       "      <th>sepal_length</th>\n",
       "      <th>sepal_width</th>\n",
       "      <th>petal_length</th>\n",
       "      <th>petal_width</th>\n",
       "      <th>species</th>\n",
       "    </tr>\n",
       "  </thead>\n",
       "  <tbody>\n",
       "    <tr>\n",
       "      <th>0</th>\n",
       "      <td>5.1</td>\n",
       "      <td>3.5</td>\n",
       "      <td>1.4</td>\n",
       "      <td>0.2</td>\n",
       "      <td>setosa</td>\n",
       "    </tr>\n",
       "    <tr>\n",
       "      <th>1</th>\n",
       "      <td>4.9</td>\n",
       "      <td>3.0</td>\n",
       "      <td>1.4</td>\n",
       "      <td>0.2</td>\n",
       "      <td>setosa</td>\n",
       "    </tr>\n",
       "    <tr>\n",
       "      <th>2</th>\n",
       "      <td>4.7</td>\n",
       "      <td>3.2</td>\n",
       "      <td>1.3</td>\n",
       "      <td>0.2</td>\n",
       "      <td>setosa</td>\n",
       "    </tr>\n",
       "    <tr>\n",
       "      <th>3</th>\n",
       "      <td>4.6</td>\n",
       "      <td>3.1</td>\n",
       "      <td>1.5</td>\n",
       "      <td>0.2</td>\n",
       "      <td>setosa</td>\n",
       "    </tr>\n",
       "    <tr>\n",
       "      <th>4</th>\n",
       "      <td>5.0</td>\n",
       "      <td>3.6</td>\n",
       "      <td>1.4</td>\n",
       "      <td>0.2</td>\n",
       "      <td>setosa</td>\n",
       "    </tr>\n",
       "  </tbody>\n",
       "</table>\n",
       "</div>"
      ],
      "text/plain": [
       "   sepal_length  sepal_width  petal_length  petal_width species\n",
       "0           5.1          3.5           1.4          0.2  setosa\n",
       "1           4.9          3.0           1.4          0.2  setosa\n",
       "2           4.7          3.2           1.3          0.2  setosa\n",
       "3           4.6          3.1           1.5          0.2  setosa\n",
       "4           5.0          3.6           1.4          0.2  setosa"
      ]
     },
     "execution_count": 3,
     "metadata": {},
     "output_type": "execute_result"
    }
   ],
   "source": [
    "data = pd.read_csv('/kaggle/input/iris-dataset/iris.csv')\n",
    "data.head()"
   ]
  },
  {
   "cell_type": "code",
   "execution_count": 4,
   "id": "62e9eab1",
   "metadata": {
    "execution": {
     "iopub.execute_input": "2024-05-23T12:09:55.311733Z",
     "iopub.status.busy": "2024-05-23T12:09:55.311228Z",
     "iopub.status.idle": "2024-05-23T12:09:55.318189Z",
     "shell.execute_reply": "2024-05-23T12:09:55.317114Z"
    },
    "papermill": {
     "duration": 0.020438,
     "end_time": "2024-05-23T12:09:55.320613",
     "exception": false,
     "start_time": "2024-05-23T12:09:55.300175",
     "status": "completed"
    },
    "tags": []
   },
   "outputs": [],
   "source": [
    "data.rename(columns={'sepal_length': 'SL', 'sepal_width': 'SW', 'petal_length': 'PL', 'petal_width': 'PW'}, inplace = True)"
   ]
  },
  {
   "cell_type": "markdown",
   "id": "402861cb",
   "metadata": {
    "papermill": {
     "duration": 0.009984,
     "end_time": "2024-05-23T12:09:55.340423",
     "exception": false,
     "start_time": "2024-05-23T12:09:55.330439",
     "status": "completed"
    },
    "tags": []
   },
   "source": [
    "**Dataframe for all the flower species**"
   ]
  },
  {
   "cell_type": "code",
   "execution_count": 5,
   "id": "9cc5b2cf",
   "metadata": {
    "execution": {
     "iopub.execute_input": "2024-05-23T12:09:55.362103Z",
     "iopub.status.busy": "2024-05-23T12:09:55.361326Z",
     "iopub.status.idle": "2024-05-23T12:09:55.377006Z",
     "shell.execute_reply": "2024-05-23T12:09:55.375812Z"
    },
    "papermill": {
     "duration": 0.030444,
     "end_time": "2024-05-23T12:09:55.380458",
     "exception": false,
     "start_time": "2024-05-23T12:09:55.350014",
     "status": "completed"
    },
    "tags": []
   },
   "outputs": [],
   "source": [
    "iris_setosa = data[data['species']=='setosa']\n",
    "iris_versicolor = data[data['species']=='versicolor']\n",
    "iris_virginica = data[data['species']=='virginica']"
   ]
  },
  {
   "cell_type": "markdown",
   "id": "c79340b4",
   "metadata": {
    "papermill": {
     "duration": 0.008819,
     "end_time": "2024-05-23T12:09:55.398664",
     "exception": false,
     "start_time": "2024-05-23T12:09:55.389845",
     "status": "completed"
    },
    "tags": []
   },
   "source": [
    "**Measures of Spread:** Gives us an idea of how much the data is spread or varying.\n",
    "* Find centrality of data\n",
    "* Data variation\n",
    "* How far form mean and etc"
   ]
  },
  {
   "cell_type": "markdown",
   "id": "538636ba",
   "metadata": {
    "papermill": {
     "duration": 0.008825,
     "end_time": "2024-05-23T12:09:55.416697",
     "exception": false,
     "start_time": "2024-05-23T12:09:55.407872",
     "status": "completed"
    },
    "tags": []
   },
   "source": [
    "**Range**: diff between Max - Min"
   ]
  },
  {
   "cell_type": "code",
   "execution_count": 6,
   "id": "6b3cfca4",
   "metadata": {
    "execution": {
     "iopub.execute_input": "2024-05-23T12:09:55.438090Z",
     "iopub.status.busy": "2024-05-23T12:09:55.437539Z",
     "iopub.status.idle": "2024-05-23T12:09:55.446265Z",
     "shell.execute_reply": "2024-05-23T12:09:55.445170Z"
    },
    "papermill": {
     "duration": 0.022662,
     "end_time": "2024-05-23T12:09:55.449241",
     "exception": false,
     "start_time": "2024-05-23T12:09:55.426579",
     "status": "completed"
    },
    "tags": []
   },
   "outputs": [
    {
     "name": "stdout",
     "output_type": "stream",
     "text": [
      "0.8999999999999999\n"
     ]
    }
   ],
   "source": [
    "range_ = np.max(iris_setosa['PL']) - np.min(iris_setosa['PL'])\n",
    "print(range_)"
   ]
  },
  {
   "cell_type": "markdown",
   "id": "a3d445e3",
   "metadata": {
    "papermill": {
     "duration": 0.009476,
     "end_time": "2024-05-23T12:09:55.469501",
     "exception": false,
     "start_time": "2024-05-23T12:09:55.460025",
     "status": "completed"
    },
    "tags": []
   },
   "source": [
    "**Percentile**: A value below which a given percentage observation may be found"
   ]
  },
  {
   "cell_type": "code",
   "execution_count": 7,
   "id": "4f663baf",
   "metadata": {
    "execution": {
     "iopub.execute_input": "2024-05-23T12:09:55.491754Z",
     "iopub.status.busy": "2024-05-23T12:09:55.490316Z",
     "iopub.status.idle": "2024-05-23T12:09:55.501121Z",
     "shell.execute_reply": "2024-05-23T12:09:55.499271Z"
    },
    "papermill": {
     "duration": 0.025369,
     "end_time": "2024-05-23T12:09:55.504364",
     "exception": false,
     "start_time": "2024-05-23T12:09:55.478995",
     "status": "completed"
    },
    "tags": []
   },
   "outputs": [
    {
     "name": "stdout",
     "output_type": "stream",
     "text": [
      "1.8\n"
     ]
    }
   ],
   "source": [
    "mylist =[1, 2, 3, 4, 5, 6, 7, 8, 9]\n",
    "\n",
    "print(np.percentile(mylist, 10))"
   ]
  },
  {
   "cell_type": "code",
   "execution_count": 8,
   "id": "59949f34",
   "metadata": {
    "execution": {
     "iopub.execute_input": "2024-05-23T12:09:55.526676Z",
     "iopub.status.busy": "2024-05-23T12:09:55.526151Z",
     "iopub.status.idle": "2024-05-23T12:09:55.533778Z",
     "shell.execute_reply": "2024-05-23T12:09:55.532302Z"
    },
    "papermill": {
     "duration": 0.022286,
     "end_time": "2024-05-23T12:09:55.536675",
     "exception": false,
     "start_time": "2024-05-23T12:09:55.514389",
     "status": "completed"
    },
    "tags": []
   },
   "outputs": [
    {
     "name": "stdout",
     "output_type": "stream",
     "text": [
      "8.2\n"
     ]
    }
   ],
   "source": [
    "print(np.percentile(mylist, 90))"
   ]
  },
  {
   "cell_type": "code",
   "execution_count": 9,
   "id": "1fdc8a85",
   "metadata": {
    "execution": {
     "iopub.execute_input": "2024-05-23T12:09:55.558033Z",
     "iopub.status.busy": "2024-05-23T12:09:55.557544Z",
     "iopub.status.idle": "2024-05-23T12:09:55.564763Z",
     "shell.execute_reply": "2024-05-23T12:09:55.563319Z"
    },
    "papermill": {
     "duration": 0.023081,
     "end_time": "2024-05-23T12:09:55.569209",
     "exception": false,
     "start_time": "2024-05-23T12:09:55.546128",
     "status": "completed"
    },
    "tags": []
   },
   "outputs": [
    {
     "name": "stdout",
     "output_type": "stream",
     "text": [
      "1.7\n"
     ]
    }
   ],
   "source": [
    "print(np.percentile(iris_setosa['PL'], 90))"
   ]
  },
  {
   "cell_type": "markdown",
   "id": "5802f970",
   "metadata": {
    "papermill": {
     "duration": 0.009434,
     "end_time": "2024-05-23T12:09:55.588582",
     "exception": false,
     "start_time": "2024-05-23T12:09:55.579148",
     "status": "completed"
    },
    "tags": []
   },
   "source": [
    "**Quartiles**: Divide a list of numbers into quarters\n",
    "* Step 1: put the list in order\n",
    "* step 2 : cut the list into 4 parts\n",
    "* step 4: the quartiles are at the cuts"
   ]
  },
  {
   "cell_type": "code",
   "execution_count": 10,
   "id": "dd9dfccc",
   "metadata": {
    "execution": {
     "iopub.execute_input": "2024-05-23T12:09:55.611734Z",
     "iopub.status.busy": "2024-05-23T12:09:55.610458Z",
     "iopub.status.idle": "2024-05-23T12:09:55.621810Z",
     "shell.execute_reply": "2024-05-23T12:09:55.620029Z"
    },
    "papermill": {
     "duration": 0.02612,
     "end_time": "2024-05-23T12:09:55.624619",
     "exception": false,
     "start_time": "2024-05-23T12:09:55.598499",
     "status": "completed"
    },
    "tags": []
   },
   "outputs": [
    {
     "name": "stdout",
     "output_type": "stream",
     "text": [
      "1.4\n",
      "1.5\n",
      "1.5750000000000002\n",
      "1.9\n"
     ]
    }
   ],
   "source": [
    "print(np.percentile(iris_setosa['PL'], 25))\n",
    "print(np.percentile(iris_setosa['PL'], 50))\n",
    "print(np.percentile(iris_setosa['PL'], 75))\n",
    "print(np.percentile(iris_setosa['PL'], 100))"
   ]
  },
  {
   "cell_type": "markdown",
   "id": "6b52576e",
   "metadata": {
    "papermill": {
     "duration": 0.00947,
     "end_time": "2024-05-23T12:09:55.644465",
     "exception": false,
     "start_time": "2024-05-23T12:09:55.634995",
     "status": "completed"
    },
    "tags": []
   },
   "source": [
    "**Interquartile Range**: Measure of statistical dispersion between 75% to 25%"
   ]
  },
  {
   "cell_type": "code",
   "execution_count": 11,
   "id": "a240740a",
   "metadata": {
    "execution": {
     "iopub.execute_input": "2024-05-23T12:09:55.666489Z",
     "iopub.status.busy": "2024-05-23T12:09:55.665932Z",
     "iopub.status.idle": "2024-05-23T12:09:55.674537Z",
     "shell.execute_reply": "2024-05-23T12:09:55.673125Z"
    },
    "papermill": {
     "duration": 0.022741,
     "end_time": "2024-05-23T12:09:55.677156",
     "exception": false,
     "start_time": "2024-05-23T12:09:55.654415",
     "status": "completed"
    },
    "tags": []
   },
   "outputs": [
    {
     "name": "stdout",
     "output_type": "stream",
     "text": [
      "0.17500000000000027\n"
     ]
    }
   ],
   "source": [
    "iqr = np.percentile(iris_setosa['PL'], 75) - np.percentile(iris_setosa['PL'], 25)\n",
    "print(iqr)"
   ]
  },
  {
   "cell_type": "markdown",
   "id": "0f071d31",
   "metadata": {
    "papermill": {
     "duration": 0.009382,
     "end_time": "2024-05-23T12:09:55.696796",
     "exception": false,
     "start_time": "2024-05-23T12:09:55.687414",
     "status": "completed"
    },
    "tags": []
   },
   "source": [
    "**Mean Absolute Deviation**: \n",
    "Find the mean\n",
    "* subtract individual number from mean\n",
    "* **take mod/ abs value**\n",
    "* add all the number\n",
    "* and subtract from the sum of number (take mean)"
   ]
  },
  {
   "cell_type": "code",
   "execution_count": 12,
   "id": "4c1e2636",
   "metadata": {
    "execution": {
     "iopub.execute_input": "2024-05-23T12:09:55.718803Z",
     "iopub.status.busy": "2024-05-23T12:09:55.718336Z",
     "iopub.status.idle": "2024-05-23T12:09:55.727770Z",
     "shell.execute_reply": "2024-05-23T12:09:55.726190Z"
    },
    "papermill": {
     "duration": 0.024294,
     "end_time": "2024-05-23T12:09:55.731009",
     "exception": false,
     "start_time": "2024-05-23T12:09:55.706715",
     "status": "completed"
    },
    "tags": []
   },
   "outputs": [
    {
     "data": {
      "text/plain": [
       "1.464"
      ]
     },
     "execution_count": 12,
     "metadata": {},
     "output_type": "execute_result"
    }
   ],
   "source": [
    "np.mean(iris_setosa['PL'])"
   ]
  },
  {
   "cell_type": "markdown",
   "id": "6b68f959",
   "metadata": {
    "papermill": {
     "duration": 0.009424,
     "end_time": "2024-05-23T12:09:55.751251",
     "exception": false,
     "start_time": "2024-05-23T12:09:55.741827",
     "status": "completed"
    },
    "tags": []
   },
   "source": [
    "**Variance**: \n",
    "* subtract individual number from mean\n",
    "* **take square of the number**\n",
    "* add all the number\n",
    "* and subtract from the sum of number (take mean)\n"
   ]
  },
  {
   "cell_type": "markdown",
   "id": "f85927cd",
   "metadata": {
    "papermill": {
     "duration": 0.010021,
     "end_time": "2024-05-23T12:09:55.771257",
     "exception": false,
     "start_time": "2024-05-23T12:09:55.761236",
     "status": "completed"
    },
    "tags": []
   },
   "source": [
    "* Generally don't use to find the spread\n",
    "* because of the square will be in different unit and is not intutive\n",
    "* In place we use SD"
   ]
  },
  {
   "cell_type": "code",
   "execution_count": 13,
   "id": "5d0dd0f6",
   "metadata": {
    "execution": {
     "iopub.execute_input": "2024-05-23T12:09:55.794409Z",
     "iopub.status.busy": "2024-05-23T12:09:55.793862Z",
     "iopub.status.idle": "2024-05-23T12:09:55.803085Z",
     "shell.execute_reply": "2024-05-23T12:09:55.801529Z"
    },
    "papermill": {
     "duration": 0.02495,
     "end_time": "2024-05-23T12:09:55.806300",
     "exception": false,
     "start_time": "2024-05-23T12:09:55.781350",
     "status": "completed"
    },
    "tags": []
   },
   "outputs": [
    {
     "data": {
      "text/plain": [
       "0.029504000000000002"
      ]
     },
     "execution_count": 13,
     "metadata": {},
     "output_type": "execute_result"
    }
   ],
   "source": [
    "np.var(iris_setosa['PL'])"
   ]
  },
  {
   "cell_type": "markdown",
   "id": "cfb2e7fc",
   "metadata": {
    "papermill": {
     "duration": 0.009771,
     "end_time": "2024-05-23T12:09:55.826176",
     "exception": false,
     "start_time": "2024-05-23T12:09:55.816405",
     "status": "completed"
    },
    "tags": []
   },
   "source": [
    "**Standard Deviation** : sqrt of variance"
   ]
  },
  {
   "cell_type": "code",
   "execution_count": 14,
   "id": "93947375",
   "metadata": {
    "execution": {
     "iopub.execute_input": "2024-05-23T12:09:55.850266Z",
     "iopub.status.busy": "2024-05-23T12:09:55.849698Z",
     "iopub.status.idle": "2024-05-23T12:09:55.860371Z",
     "shell.execute_reply": "2024-05-23T12:09:55.858875Z"
    },
    "papermill": {
     "duration": 0.025547,
     "end_time": "2024-05-23T12:09:55.863190",
     "exception": false,
     "start_time": "2024-05-23T12:09:55.837643",
     "status": "completed"
    },
    "tags": []
   },
   "outputs": [
    {
     "data": {
      "text/plain": [
       "0.17176728442867112"
      ]
     },
     "execution_count": 14,
     "metadata": {},
     "output_type": "execute_result"
    }
   ],
   "source": [
    "np.std(iris_setosa['PL'])"
   ]
  },
  {
   "cell_type": "markdown",
   "id": "9949d01e",
   "metadata": {
    "papermill": {
     "duration": 0.010025,
     "end_time": "2024-05-23T12:09:55.883618",
     "exception": false,
     "start_time": "2024-05-23T12:09:55.873593",
     "status": "completed"
    },
    "tags": []
   },
   "source": [
    "Median Absolute Deviation: Find the median\n",
    "\n",
    "* subtract individual number from median\n",
    "* take mod/ abs value\n",
    "* rearrange the number\n",
    "* again take the median of the list given\n",
    "* This is the final mean that is Median aBsolute Deviation"
   ]
  },
  {
   "cell_type": "code",
   "execution_count": 15,
   "id": "c04cb127",
   "metadata": {
    "execution": {
     "iopub.execute_input": "2024-05-23T12:09:55.907094Z",
     "iopub.status.busy": "2024-05-23T12:09:55.906601Z",
     "iopub.status.idle": "2024-05-23T12:09:55.938786Z",
     "shell.execute_reply": "2024-05-23T12:09:55.937353Z"
    },
    "papermill": {
     "duration": 0.048099,
     "end_time": "2024-05-23T12:09:55.942206",
     "exception": false,
     "start_time": "2024-05-23T12:09:55.894107",
     "status": "completed"
    },
    "tags": []
   },
   "outputs": [
    {
     "data": {
      "text/plain": [
       "2.965204437011204"
      ]
     },
     "execution_count": 15,
     "metadata": {},
     "output_type": "execute_result"
    }
   ],
   "source": [
    "from statsmodels import robust\n",
    "robust.mad(np.array([1, 3, 5, 6, 7, 8, 9]))"
   ]
  },
  {
   "cell_type": "markdown",
   "id": "e6da8b0b",
   "metadata": {
    "papermill": {
     "duration": 0.010061,
     "end_time": "2024-05-23T12:09:55.962815",
     "exception": false,
     "start_time": "2024-05-23T12:09:55.952754",
     "status": "completed"
    },
    "tags": []
   },
   "source": [
    "Sd Vs Medan Absolute Deviation\n",
    "* If there is outliers then use Median absolute Deviation"
   ]
  },
  {
   "cell_type": "code",
   "execution_count": null,
   "id": "d66d08b9",
   "metadata": {
    "papermill": {
     "duration": 0.010364,
     "end_time": "2024-05-23T12:09:55.983788",
     "exception": false,
     "start_time": "2024-05-23T12:09:55.973424",
     "status": "completed"
    },
    "tags": []
   },
   "outputs": [],
   "source": []
  }
 ],
 "metadata": {
  "kaggle": {
   "accelerator": "none",
   "dataSources": [
    {
     "datasetId": 2354152,
     "sourceId": 3966491,
     "sourceType": "datasetVersion"
    }
   ],
   "dockerImageVersionId": 30698,
   "isGpuEnabled": false,
   "isInternetEnabled": true,
   "language": "python",
   "sourceType": "notebook"
  },
  "kernelspec": {
   "display_name": "Python 3",
   "language": "python",
   "name": "python3"
  },
  "language_info": {
   "codemirror_mode": {
    "name": "ipython",
    "version": 3
   },
   "file_extension": ".py",
   "mimetype": "text/x-python",
   "name": "python",
   "nbconvert_exporter": "python",
   "pygments_lexer": "ipython3",
   "version": "3.10.13"
  },
  "papermill": {
   "default_parameters": {},
   "duration": 7.942414,
   "end_time": "2024-05-23T12:09:56.923486",
   "environment_variables": {},
   "exception": null,
   "input_path": "__notebook__.ipynb",
   "output_path": "__notebook__.ipynb",
   "parameters": {},
   "start_time": "2024-05-23T12:09:48.981072",
   "version": "2.5.0"
  }
 },
 "nbformat": 4,
 "nbformat_minor": 5
}
