{
 "cells": [
  {
   "cell_type": "code",
   "execution_count": 1,
   "id": "4bdfae07",
   "metadata": {
    "_cell_guid": "b1076dfc-b9ad-4769-8c92-a6c4dae69d19",
    "_uuid": "8f2839f25d086af736a60e9eeb907d3b93b6e0e5",
    "execution": {
     "iopub.execute_input": "2024-05-21T20:05:51.426931Z",
     "iopub.status.busy": "2024-05-21T20:05:51.426256Z",
     "iopub.status.idle": "2024-05-21T20:05:52.577954Z",
     "shell.execute_reply": "2024-05-21T20:05:52.576449Z"
    },
    "papermill": {
     "duration": 1.162757,
     "end_time": "2024-05-21T20:05:52.581539",
     "exception": false,
     "start_time": "2024-05-21T20:05:51.418782",
     "status": "completed"
    },
    "tags": []
   },
   "outputs": [
    {
     "name": "stdout",
     "output_type": "stream",
     "text": [
      "/kaggle/input/titanic/train.csv\n",
      "/kaggle/input/titanic/test.csv\n",
      "/kaggle/input/titanic/gender_submission.csv\n"
     ]
    }
   ],
   "source": [
    "# This Python 3 environment comes with many helpful analytics libraries installed\n",
    "# It is defined by the kaggle/python Docker image: https://github.com/kaggle/docker-python\n",
    "# For example, here's several helpful packages to load\n",
    "\n",
    "import numpy as np # linear algebra\n",
    "import pandas as pd # data processing, CSV file I/O (e.g. pd.read_csv)\n",
    "\n",
    "# Input data files are available in the read-only \"../input/\" directory\n",
    "# For example, running this (by clicking run or pressing Shift+Enter) will list all files under the input directory\n",
    "\n",
    "import os\n",
    "for dirname, _, filenames in os.walk('/kaggle/input'):\n",
    "    for filename in filenames:\n",
    "        print(os.path.join(dirname, filename))\n",
    "\n",
    "# You can write up to 20GB to the current directory (/kaggle/working/) that gets preserved as output when you create a version using \"Save & Run All\" \n",
    "# You can also write temporary files to /kaggle/temp/, but they won't be saved outside of the current session"
   ]
  },
  {
   "cell_type": "code",
   "execution_count": 2,
   "id": "dce0ec88",
   "metadata": {
    "execution": {
     "iopub.execute_input": "2024-05-21T20:05:52.594879Z",
     "iopub.status.busy": "2024-05-21T20:05:52.594230Z",
     "iopub.status.idle": "2024-05-21T20:05:54.306669Z",
     "shell.execute_reply": "2024-05-21T20:05:54.305221Z"
    },
    "papermill": {
     "duration": 1.722648,
     "end_time": "2024-05-21T20:05:54.309819",
     "exception": false,
     "start_time": "2024-05-21T20:05:52.587171",
     "status": "completed"
    },
    "tags": []
   },
   "outputs": [],
   "source": [
    "import pandas as pd\n",
    "import numpy as np\n",
    "import seaborn as sns\n",
    "import matplotlib.pyplot as plt"
   ]
  },
  {
   "cell_type": "code",
   "execution_count": 3,
   "id": "7128338d",
   "metadata": {
    "execution": {
     "iopub.execute_input": "2024-05-21T20:05:54.323724Z",
     "iopub.status.busy": "2024-05-21T20:05:54.323326Z",
     "iopub.status.idle": "2024-05-21T20:05:54.351593Z",
     "shell.execute_reply": "2024-05-21T20:05:54.350054Z"
    },
    "papermill": {
     "duration": 0.039598,
     "end_time": "2024-05-21T20:05:54.355084",
     "exception": false,
     "start_time": "2024-05-21T20:05:54.315486",
     "status": "completed"
    },
    "tags": []
   },
   "outputs": [],
   "source": [
    "data=pd.read_csv('/kaggle/input/titanic/train.csv')"
   ]
  },
  {
   "cell_type": "code",
   "execution_count": 4,
   "id": "990c6a7c",
   "metadata": {
    "execution": {
     "iopub.execute_input": "2024-05-21T20:05:54.368743Z",
     "iopub.status.busy": "2024-05-21T20:05:54.368352Z",
     "iopub.status.idle": "2024-05-21T20:05:54.398918Z",
     "shell.execute_reply": "2024-05-21T20:05:54.397504Z"
    },
    "papermill": {
     "duration": 0.041647,
     "end_time": "2024-05-21T20:05:54.402436",
     "exception": false,
     "start_time": "2024-05-21T20:05:54.360789",
     "status": "completed"
    },
    "tags": []
   },
   "outputs": [
    {
     "data": {
      "text/html": [
       "<div>\n",
       "<style scoped>\n",
       "    .dataframe tbody tr th:only-of-type {\n",
       "        vertical-align: middle;\n",
       "    }\n",
       "\n",
       "    .dataframe tbody tr th {\n",
       "        vertical-align: top;\n",
       "    }\n",
       "\n",
       "    .dataframe thead th {\n",
       "        text-align: right;\n",
       "    }\n",
       "</style>\n",
       "<table border=\"1\" class=\"dataframe\">\n",
       "  <thead>\n",
       "    <tr style=\"text-align: right;\">\n",
       "      <th></th>\n",
       "      <th>PassengerId</th>\n",
       "      <th>Survived</th>\n",
       "      <th>Pclass</th>\n",
       "      <th>Name</th>\n",
       "      <th>Sex</th>\n",
       "      <th>Age</th>\n",
       "      <th>SibSp</th>\n",
       "      <th>Parch</th>\n",
       "      <th>Ticket</th>\n",
       "      <th>Fare</th>\n",
       "      <th>Cabin</th>\n",
       "      <th>Embarked</th>\n",
       "    </tr>\n",
       "  </thead>\n",
       "  <tbody>\n",
       "    <tr>\n",
       "      <th>0</th>\n",
       "      <td>1</td>\n",
       "      <td>0</td>\n",
       "      <td>3</td>\n",
       "      <td>Braund, Mr. Owen Harris</td>\n",
       "      <td>male</td>\n",
       "      <td>22.0</td>\n",
       "      <td>1</td>\n",
       "      <td>0</td>\n",
       "      <td>A/5 21171</td>\n",
       "      <td>7.2500</td>\n",
       "      <td>NaN</td>\n",
       "      <td>S</td>\n",
       "    </tr>\n",
       "    <tr>\n",
       "      <th>1</th>\n",
       "      <td>2</td>\n",
       "      <td>1</td>\n",
       "      <td>1</td>\n",
       "      <td>Cumings, Mrs. John Bradley (Florence Briggs Th...</td>\n",
       "      <td>female</td>\n",
       "      <td>38.0</td>\n",
       "      <td>1</td>\n",
       "      <td>0</td>\n",
       "      <td>PC 17599</td>\n",
       "      <td>71.2833</td>\n",
       "      <td>C85</td>\n",
       "      <td>C</td>\n",
       "    </tr>\n",
       "    <tr>\n",
       "      <th>2</th>\n",
       "      <td>3</td>\n",
       "      <td>1</td>\n",
       "      <td>3</td>\n",
       "      <td>Heikkinen, Miss. Laina</td>\n",
       "      <td>female</td>\n",
       "      <td>26.0</td>\n",
       "      <td>0</td>\n",
       "      <td>0</td>\n",
       "      <td>STON/O2. 3101282</td>\n",
       "      <td>7.9250</td>\n",
       "      <td>NaN</td>\n",
       "      <td>S</td>\n",
       "    </tr>\n",
       "    <tr>\n",
       "      <th>3</th>\n",
       "      <td>4</td>\n",
       "      <td>1</td>\n",
       "      <td>1</td>\n",
       "      <td>Futrelle, Mrs. Jacques Heath (Lily May Peel)</td>\n",
       "      <td>female</td>\n",
       "      <td>35.0</td>\n",
       "      <td>1</td>\n",
       "      <td>0</td>\n",
       "      <td>113803</td>\n",
       "      <td>53.1000</td>\n",
       "      <td>C123</td>\n",
       "      <td>S</td>\n",
       "    </tr>\n",
       "    <tr>\n",
       "      <th>4</th>\n",
       "      <td>5</td>\n",
       "      <td>0</td>\n",
       "      <td>3</td>\n",
       "      <td>Allen, Mr. William Henry</td>\n",
       "      <td>male</td>\n",
       "      <td>35.0</td>\n",
       "      <td>0</td>\n",
       "      <td>0</td>\n",
       "      <td>373450</td>\n",
       "      <td>8.0500</td>\n",
       "      <td>NaN</td>\n",
       "      <td>S</td>\n",
       "    </tr>\n",
       "  </tbody>\n",
       "</table>\n",
       "</div>"
      ],
      "text/plain": [
       "   PassengerId  Survived  Pclass  \\\n",
       "0            1         0       3   \n",
       "1            2         1       1   \n",
       "2            3         1       3   \n",
       "3            4         1       1   \n",
       "4            5         0       3   \n",
       "\n",
       "                                                Name     Sex   Age  SibSp  \\\n",
       "0                            Braund, Mr. Owen Harris    male  22.0      1   \n",
       "1  Cumings, Mrs. John Bradley (Florence Briggs Th...  female  38.0      1   \n",
       "2                             Heikkinen, Miss. Laina  female  26.0      0   \n",
       "3       Futrelle, Mrs. Jacques Heath (Lily May Peel)  female  35.0      1   \n",
       "4                           Allen, Mr. William Henry    male  35.0      0   \n",
       "\n",
       "   Parch            Ticket     Fare Cabin Embarked  \n",
       "0      0         A/5 21171   7.2500   NaN        S  \n",
       "1      0          PC 17599  71.2833   C85        C  \n",
       "2      0  STON/O2. 3101282   7.9250   NaN        S  \n",
       "3      0            113803  53.1000  C123        S  \n",
       "4      0            373450   8.0500   NaN        S  "
      ]
     },
     "execution_count": 4,
     "metadata": {},
     "output_type": "execute_result"
    }
   ],
   "source": [
    "data.head()"
   ]
  },
  {
   "cell_type": "markdown",
   "id": "0328172c",
   "metadata": {
    "papermill": {
     "duration": 0.005285,
     "end_time": "2024-05-21T20:05:54.413532",
     "exception": false,
     "start_time": "2024-05-21T20:05:54.408247",
     "status": "completed"
    },
    "tags": []
   },
   "source": [
    "**CAT VS NUM**"
   ]
  },
  {
   "cell_type": "code",
   "execution_count": 5,
   "id": "b7cfd675",
   "metadata": {
    "execution": {
     "iopub.execute_input": "2024-05-21T20:05:54.427758Z",
     "iopub.status.busy": "2024-05-21T20:05:54.427370Z",
     "iopub.status.idle": "2024-05-21T20:05:54.876942Z",
     "shell.execute_reply": "2024-05-21T20:05:54.875735Z"
    },
    "papermill": {
     "duration": 0.461064,
     "end_time": "2024-05-21T20:05:54.880418",
     "exception": false,
     "start_time": "2024-05-21T20:05:54.419354",
     "status": "completed"
    },
    "tags": []
   },
   "outputs": [
    {
     "data": {
      "text/plain": [
       "<Axes: xlabel='Pclass', ylabel='Age'>"
      ]
     },
     "execution_count": 5,
     "metadata": {},
     "output_type": "execute_result"
    },
    {
     "data": {
      "image/png": "[encoded data removed]",
      "text/plain": [
       "<Figure size 640x480 with 1 Axes>"
      ]
     },
     "metadata": {},
     "output_type": "display_data"
    }
   ],
   "source": [
    "sns.boxplot(x='Pclass', y = 'Age', data= data)"
   ]
  },
  {
   "cell_type": "code",
   "execution_count": 6,
   "id": "f1c929a4",
   "metadata": {
    "execution": {
     "iopub.execute_input": "2024-05-21T20:05:54.897165Z",
     "iopub.status.busy": "2024-05-21T20:05:54.896701Z",
     "iopub.status.idle": "2024-05-21T20:05:55.416081Z",
     "shell.execute_reply": "2024-05-21T20:05:55.414163Z"
    },
    "papermill": {
     "duration": 0.531206,
     "end_time": "2024-05-21T20:05:55.419039",
     "exception": false,
     "start_time": "2024-05-21T20:05:54.887833",
     "status": "completed"
    },
    "tags": []
   },
   "outputs": [
    {
     "data": {
      "text/plain": [
       "<Axes: xlabel='Pclass', ylabel='Age'>"
      ]
     },
     "execution_count": 6,
     "metadata": {},
     "output_type": "execute_result"
    },
    {
     "data": {
      "image/png": "[encoded data removed]",
      "text/plain": [
       "<Figure size 640x480 with 1 Axes>"
      ]
     },
     "metadata": {},
     "output_type": "display_data"
    }
   ],
   "source": [
    "sns.barplot(x='Pclass', y='Age', data= data)"
   ]
  },
  {
   "cell_type": "markdown",
   "id": "0c6b3e6d",
   "metadata": {
    "papermill": {
     "duration": 0.006618,
     "end_time": "2024-05-21T20:05:55.432141",
     "exception": false,
     "start_time": "2024-05-21T20:05:55.425523",
     "status": "completed"
    },
    "tags": []
   },
   "source": [
    "**NUM Vs NUM**"
   ]
  },
  {
   "cell_type": "code",
   "execution_count": 7,
   "id": "3501e609",
   "metadata": {
    "execution": {
     "iopub.execute_input": "2024-05-21T20:05:55.448983Z",
     "iopub.status.busy": "2024-05-21T20:05:55.447697Z",
     "iopub.status.idle": "2024-05-21T20:05:55.806747Z",
     "shell.execute_reply": "2024-05-21T20:05:55.805144Z"
    },
    "papermill": {
     "duration": 0.371489,
     "end_time": "2024-05-21T20:05:55.810334",
     "exception": false,
     "start_time": "2024-05-21T20:05:55.438845",
     "status": "completed"
    },
    "tags": []
   },
   "outputs": [
    {
     "data": {
      "text/plain": [
       "<matplotlib.collections.PathCollection at 0x7eb7327c63b0>"
      ]
     },
     "execution_count": 7,
     "metadata": {},
     "output_type": "execute_result"
    },
    {
     "data": {
      "image/png": "[encoded data removed]",
      "text/plain": [
       "<Figure size 640x480 with 1 Axes>"
      ]
     },
     "metadata": {},
     "output_type": "display_data"
    }
   ],
   "source": [
    "m=data['Age'].values\n",
    "n = data['Fare'].values\n",
    "\n",
    "plt.scatter(m,n)"
   ]
  },
  {
   "cell_type": "markdown",
   "id": "4862c318",
   "metadata": {
    "papermill": {
     "duration": 0.007442,
     "end_time": "2024-05-21T20:05:55.826066",
     "exception": false,
     "start_time": "2024-05-21T20:05:55.818624",
     "status": "completed"
    },
    "tags": []
   },
   "source": [
    "**CAT VS CAT**"
   ]
  },
  {
   "cell_type": "code",
   "execution_count": 8,
   "id": "2308df19",
   "metadata": {
    "execution": {
     "iopub.execute_input": "2024-05-21T20:05:55.844463Z",
     "iopub.status.busy": "2024-05-21T20:05:55.844027Z",
     "iopub.status.idle": "2024-05-21T20:05:55.866596Z",
     "shell.execute_reply": "2024-05-21T20:05:55.865235Z"
    },
    "papermill": {
     "duration": 0.035704,
     "end_time": "2024-05-21T20:05:55.869925",
     "exception": false,
     "start_time": "2024-05-21T20:05:55.834221",
     "status": "completed"
    },
    "tags": []
   },
   "outputs": [],
   "source": [
    "ct=pd.crosstab(data['Sex'], data['Pclass'])"
   ]
  },
  {
   "cell_type": "code",
   "execution_count": 9,
   "id": "67b6036a",
   "metadata": {
    "execution": {
     "iopub.execute_input": "2024-05-21T20:05:55.887247Z",
     "iopub.status.busy": "2024-05-21T20:05:55.886742Z",
     "iopub.status.idle": "2024-05-21T20:05:56.232875Z",
     "shell.execute_reply": "2024-05-21T20:05:56.231655Z"
    },
    "papermill": {
     "duration": 0.358755,
     "end_time": "2024-05-21T20:05:56.236324",
     "exception": false,
     "start_time": "2024-05-21T20:05:55.877569",
     "status": "completed"
    },
    "tags": []
   },
   "outputs": [
    {
     "data": {
      "text/plain": [
       "<Axes: xlabel='Sex'>"
      ]
     },
     "execution_count": 9,
     "metadata": {},
     "output_type": "execute_result"
    },
    {
     "data": {
      "image/png": "[encoded data removed]",
      "text/plain": [
       "<Figure size 640x480 with 1 Axes>"
      ]
     },
     "metadata": {},
     "output_type": "display_data"
    }
   ],
   "source": [
    "ct.plot(kind='bar')"
   ]
  },
  {
   "cell_type": "code",
   "execution_count": 10,
   "id": "ab0bff06",
   "metadata": {
    "execution": {
     "iopub.execute_input": "2024-05-21T20:05:56.255430Z",
     "iopub.status.busy": "2024-05-21T20:05:56.254778Z",
     "iopub.status.idle": "2024-05-21T20:05:56.626022Z",
     "shell.execute_reply": "2024-05-21T20:05:56.624541Z"
    },
    "papermill": {
     "duration": 0.384544,
     "end_time": "2024-05-21T20:05:56.629215",
     "exception": false,
     "start_time": "2024-05-21T20:05:56.244671",
     "status": "completed"
    },
    "tags": []
   },
   "outputs": [
    {
     "data": {
      "text/plain": [
       "<Axes: xlabel='Pclass', ylabel='Sex'>"
      ]
     },
     "execution_count": 10,
     "metadata": {},
     "output_type": "execute_result"
    },
    {
     "data": {
      "image/png": "[encoded data removed]",
      "text/plain": [
       "<Figure size 640x480 with 2 Axes>"
      ]
     },
     "metadata": {},
     "output_type": "display_data"
    }
   ],
   "source": [
    "sns.heatmap(ct)"
   ]
  }
 ],
 "metadata": {
  "kaggle": {
   "accelerator": "none",
   "dataSources": [
    {
     "databundleVersionId": 26502,
     "sourceId": 3136,
     "sourceType": "competition"
    }
   ],
   "dockerImageVersionId": 30698,
   "isGpuEnabled": false,
   "isInternetEnabled": true,
   "language": "python",
   "sourceType": "notebook"
  },
  "kernelspec": {
   "display_name": "Python 3",
   "language": "python",
   "name": "python3"
  },
  "language_info": {
   "codemirror_mode": {
    "name": "ipython",
    "version": 3
   },
   "file_extension": ".py",
   "mimetype": "text/x-python",
   "name": "python",
   "nbconvert_exporter": "python",
   "pygments_lexer": "ipython3",
   "version": "3.10.13"
  },
  "papermill": {
   "default_parameters": {},
   "duration": 9.459983,
   "end_time": "2024-05-21T20:05:57.570609",
   "environment_variables": {},
   "exception": null,
   "input_path": "__notebook__.ipynb",
   "output_path": "__notebook__.ipynb",
   "parameters": {},
   "start_time": "2024-05-21T20:05:48.110626",
   "version": "2.5.0"
  }
 },
 "nbformat": 4,
 "nbformat_minor": 5
}
