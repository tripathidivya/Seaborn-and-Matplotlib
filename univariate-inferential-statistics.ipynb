{
 "cells": [
  {
   "cell_type": "code",
   "execution_count": 1,
   "id": "04d39c45",
   "metadata": {
    "_cell_guid": "b1076dfc-b9ad-4769-8c92-a6c4dae69d19",
    "_uuid": "8f2839f25d086af736a60e9eeb907d3b93b6e0e5",
    "execution": {
     "iopub.execute_input": "2024-05-21T19:50:13.527259Z",
     "iopub.status.busy": "2024-05-21T19:50:13.526837Z",
     "iopub.status.idle": "2024-05-21T19:50:14.343860Z",
     "shell.execute_reply": "2024-05-21T19:50:14.342433Z"
    },
    "papermill": {
     "duration": 0.826643,
     "end_time": "2024-05-21T19:50:14.346999",
     "exception": false,
     "start_time": "2024-05-21T19:50:13.520356",
     "status": "completed"
    },
    "tags": []
   },
   "outputs": [
    {
     "name": "stdout",
     "output_type": "stream",
     "text": [
      "/kaggle/input/titanic/train.csv\n",
      "/kaggle/input/titanic/test.csv\n",
      "/kaggle/input/titanic/gender_submission.csv\n"
     ]
    }
   ],
   "source": [
    "# This Python 3 environment comes with many helpful analytics libraries installed\n",
    "# It is defined by the kaggle/python Docker image: https://github.com/kaggle/docker-python\n",
    "# For example, here's several helpful packages to load\n",
    "\n",
    "import numpy as np # linear algebra\n",
    "import pandas as pd # data processing, CSV file I/O (e.g. pd.read_csv)\n",
    "\n",
    "# Input data files are available in the read-only \"../input/\" directory\n",
    "# For example, running this (by clicking run or pressing Shift+Enter) will list all files under the input directory\n",
    "\n",
    "import os\n",
    "for dirname, _, filenames in os.walk('/kaggle/input'):\n",
    "    for filename in filenames:\n",
    "        print(os.path.join(dirname, filename))\n",
    "\n",
    "# You can write up to 20GB to the current directory (/kaggle/working/) that gets preserved as output when you create a version using \"Save & Run All\" \n",
    "# You can also write temporary files to /kaggle/temp/, but they won't be saved outside of the current session"
   ]
  },
  {
   "cell_type": "code",
   "execution_count": 2,
   "id": "308cb9af",
   "metadata": {
    "execution": {
     "iopub.execute_input": "2024-05-21T19:50:14.358132Z",
     "iopub.status.busy": "2024-05-21T19:50:14.357622Z",
     "iopub.status.idle": "2024-05-21T19:50:15.614677Z",
     "shell.execute_reply": "2024-05-21T19:50:15.613484Z"
    },
    "papermill": {
     "duration": 1.265631,
     "end_time": "2024-05-21T19:50:15.617327",
     "exception": false,
     "start_time": "2024-05-21T19:50:14.351696",
     "status": "completed"
    },
    "tags": []
   },
   "outputs": [],
   "source": [
    "import pandas as pd\n",
    "import numpy as np\n",
    "import seaborn as sns\n",
    "import matplotlib.pyplot as plt"
   ]
  },
  {
   "cell_type": "code",
   "execution_count": 3,
   "id": "91a3a654",
   "metadata": {
    "execution": {
     "iopub.execute_input": "2024-05-21T19:50:15.628682Z",
     "iopub.status.busy": "2024-05-21T19:50:15.627652Z",
     "iopub.status.idle": "2024-05-21T19:50:15.651580Z",
     "shell.execute_reply": "2024-05-21T19:50:15.650588Z"
    },
    "papermill": {
     "duration": 0.032172,
     "end_time": "2024-05-21T19:50:15.654113",
     "exception": false,
     "start_time": "2024-05-21T19:50:15.621941",
     "status": "completed"
    },
    "tags": []
   },
   "outputs": [],
   "source": [
    "data=pd.read_csv('/kaggle/input/titanic/train.csv')"
   ]
  },
  {
   "cell_type": "code",
   "execution_count": 4,
   "id": "86d96fa4",
   "metadata": {
    "execution": {
     "iopub.execute_input": "2024-05-21T19:50:15.664548Z",
     "iopub.status.busy": "2024-05-21T19:50:15.664187Z",
     "iopub.status.idle": "2024-05-21T19:50:15.690194Z",
     "shell.execute_reply": "2024-05-21T19:50:15.689177Z"
    },
    "papermill": {
     "duration": 0.033925,
     "end_time": "2024-05-21T19:50:15.692571",
     "exception": false,
     "start_time": "2024-05-21T19:50:15.658646",
     "status": "completed"
    },
    "tags": []
   },
   "outputs": [
    {
     "data": {
      "text/html": [
       "<div>\n",
       "<style scoped>\n",
       "    .dataframe tbody tr th:only-of-type {\n",
       "        vertical-align: middle;\n",
       "    }\n",
       "\n",
       "    .dataframe tbody tr th {\n",
       "        vertical-align: top;\n",
       "    }\n",
       "\n",
       "    .dataframe thead th {\n",
       "        text-align: right;\n",
       "    }\n",
       "</style>\n",
       "<table border=\"1\" class=\"dataframe\">\n",
       "  <thead>\n",
       "    <tr style=\"text-align: right;\">\n",
       "      <th></th>\n",
       "      <th>PassengerId</th>\n",
       "      <th>Survived</th>\n",
       "      <th>Pclass</th>\n",
       "      <th>Name</th>\n",
       "      <th>Sex</th>\n",
       "      <th>Age</th>\n",
       "      <th>SibSp</th>\n",
       "      <th>Parch</th>\n",
       "      <th>Ticket</th>\n",
       "      <th>Fare</th>\n",
       "      <th>Cabin</th>\n",
       "      <th>Embarked</th>\n",
       "    </tr>\n",
       "  </thead>\n",
       "  <tbody>\n",
       "    <tr>\n",
       "      <th>0</th>\n",
       "      <td>1</td>\n",
       "      <td>0</td>\n",
       "      <td>3</td>\n",
       "      <td>Braund, Mr. Owen Harris</td>\n",
       "      <td>male</td>\n",
       "      <td>22.0</td>\n",
       "      <td>1</td>\n",
       "      <td>0</td>\n",
       "      <td>A/5 21171</td>\n",
       "      <td>7.2500</td>\n",
       "      <td>NaN</td>\n",
       "      <td>S</td>\n",
       "    </tr>\n",
       "    <tr>\n",
       "      <th>1</th>\n",
       "      <td>2</td>\n",
       "      <td>1</td>\n",
       "      <td>1</td>\n",
       "      <td>Cumings, Mrs. John Bradley (Florence Briggs Th...</td>\n",
       "      <td>female</td>\n",
       "      <td>38.0</td>\n",
       "      <td>1</td>\n",
       "      <td>0</td>\n",
       "      <td>PC 17599</td>\n",
       "      <td>71.2833</td>\n",
       "      <td>C85</td>\n",
       "      <td>C</td>\n",
       "    </tr>\n",
       "    <tr>\n",
       "      <th>2</th>\n",
       "      <td>3</td>\n",
       "      <td>1</td>\n",
       "      <td>3</td>\n",
       "      <td>Heikkinen, Miss. Laina</td>\n",
       "      <td>female</td>\n",
       "      <td>26.0</td>\n",
       "      <td>0</td>\n",
       "      <td>0</td>\n",
       "      <td>STON/O2. 3101282</td>\n",
       "      <td>7.9250</td>\n",
       "      <td>NaN</td>\n",
       "      <td>S</td>\n",
       "    </tr>\n",
       "    <tr>\n",
       "      <th>3</th>\n",
       "      <td>4</td>\n",
       "      <td>1</td>\n",
       "      <td>1</td>\n",
       "      <td>Futrelle, Mrs. Jacques Heath (Lily May Peel)</td>\n",
       "      <td>female</td>\n",
       "      <td>35.0</td>\n",
       "      <td>1</td>\n",
       "      <td>0</td>\n",
       "      <td>113803</td>\n",
       "      <td>53.1000</td>\n",
       "      <td>C123</td>\n",
       "      <td>S</td>\n",
       "    </tr>\n",
       "    <tr>\n",
       "      <th>4</th>\n",
       "      <td>5</td>\n",
       "      <td>0</td>\n",
       "      <td>3</td>\n",
       "      <td>Allen, Mr. William Henry</td>\n",
       "      <td>male</td>\n",
       "      <td>35.0</td>\n",
       "      <td>0</td>\n",
       "      <td>0</td>\n",
       "      <td>373450</td>\n",
       "      <td>8.0500</td>\n",
       "      <td>NaN</td>\n",
       "      <td>S</td>\n",
       "    </tr>\n",
       "  </tbody>\n",
       "</table>\n",
       "</div>"
      ],
      "text/plain": [
       "   PassengerId  Survived  Pclass  \\\n",
       "0            1         0       3   \n",
       "1            2         1       1   \n",
       "2            3         1       3   \n",
       "3            4         1       1   \n",
       "4            5         0       3   \n",
       "\n",
       "                                                Name     Sex   Age  SibSp  \\\n",
       "0                            Braund, Mr. Owen Harris    male  22.0      1   \n",
       "1  Cumings, Mrs. John Bradley (Florence Briggs Th...  female  38.0      1   \n",
       "2                             Heikkinen, Miss. Laina  female  26.0      0   \n",
       "3       Futrelle, Mrs. Jacques Heath (Lily May Peel)  female  35.0      1   \n",
       "4                           Allen, Mr. William Henry    male  35.0      0   \n",
       "\n",
       "   Parch            Ticket     Fare Cabin Embarked  \n",
       "0      0         A/5 21171   7.2500   NaN        S  \n",
       "1      0          PC 17599  71.2833   C85        C  \n",
       "2      0  STON/O2. 3101282   7.9250   NaN        S  \n",
       "3      0            113803  53.1000  C123        S  \n",
       "4      0            373450   8.0500   NaN        S  "
      ]
     },
     "execution_count": 4,
     "metadata": {},
     "output_type": "execute_result"
    }
   ],
   "source": [
    "data.head()"
   ]
  },
  {
   "cell_type": "code",
   "execution_count": 5,
   "id": "bdea45bc",
   "metadata": {
    "execution": {
     "iopub.execute_input": "2024-05-21T19:50:15.703786Z",
     "iopub.status.busy": "2024-05-21T19:50:15.703423Z",
     "iopub.status.idle": "2024-05-21T19:50:15.718974Z",
     "shell.execute_reply": "2024-05-21T19:50:15.717957Z"
    },
    "papermill": {
     "duration": 0.024031,
     "end_time": "2024-05-21T19:50:15.721354",
     "exception": false,
     "start_time": "2024-05-21T19:50:15.697323",
     "status": "completed"
    },
    "tags": []
   },
   "outputs": [
    {
     "data": {
      "text/plain": [
       "Pclass\n",
       "3    491\n",
       "1    216\n",
       "2    184\n",
       "Name: count, dtype: int64"
      ]
     },
     "execution_count": 5,
     "metadata": {},
     "output_type": "execute_result"
    }
   ],
   "source": [
    "data['Pclass'].value_counts()"
   ]
  },
  {
   "cell_type": "code",
   "execution_count": 6,
   "id": "12ebc6b2",
   "metadata": {
    "execution": {
     "iopub.execute_input": "2024-05-21T19:50:15.733098Z",
     "iopub.status.busy": "2024-05-21T19:50:15.732622Z",
     "iopub.status.idle": "2024-05-21T19:50:16.080471Z",
     "shell.execute_reply": "2024-05-21T19:50:16.079364Z"
    },
    "papermill": {
     "duration": 0.356669,
     "end_time": "2024-05-21T19:50:16.083028",
     "exception": false,
     "start_time": "2024-05-21T19:50:15.726359",
     "status": "completed"
    },
    "tags": []
   },
   "outputs": [
    {
     "data": {
      "text/plain": [
       "<Axes: xlabel='Pclass'>"
      ]
     },
     "execution_count": 6,
     "metadata": {},
     "output_type": "execute_result"
    },
    {
     "data": {
      "image/png": "[encoded data removed]",
      "text/plain": [
       "<Figure size 640x480 with 1 Axes>"
      ]
     },
     "metadata": {},
     "output_type": "display_data"
    }
   ],
   "source": [
    "data['Pclass'].value_counts().plot(kind='bar')"
   ]
  },
  {
   "cell_type": "code",
   "execution_count": 7,
   "id": "4442ff84",
   "metadata": {
    "execution": {
     "iopub.execute_input": "2024-05-21T19:50:16.095623Z",
     "iopub.status.busy": "2024-05-21T19:50:16.094861Z",
     "iopub.status.idle": "2024-05-21T19:50:16.241063Z",
     "shell.execute_reply": "2024-05-21T19:50:16.239660Z"
    },
    "papermill": {
     "duration": 0.156789,
     "end_time": "2024-05-21T19:50:16.245092",
     "exception": false,
     "start_time": "2024-05-21T19:50:16.088303",
     "status": "completed"
    },
    "tags": []
   },
   "outputs": [
    {
     "data": {
      "text/plain": [
       "<Axes: ylabel='count'>"
      ]
     },
     "execution_count": 7,
     "metadata": {},
     "output_type": "execute_result"
    },
    {
     "data": {
      "image/png": "[encoded data removed]",
      "text/plain": [
       "<Figure size 640x480 with 1 Axes>"
      ]
     },
     "metadata": {},
     "output_type": "display_data"
    }
   ],
   "source": [
    "data['Pclass'].value_counts().plot(kind='pie', autopct='%.2f')"
   ]
  },
  {
   "cell_type": "code",
   "execution_count": 8,
   "id": "a4b17cdc",
   "metadata": {
    "execution": {
     "iopub.execute_input": "2024-05-21T19:50:16.266043Z",
     "iopub.status.busy": "2024-05-21T19:50:16.265304Z",
     "iopub.status.idle": "2024-05-21T19:50:16.272941Z",
     "shell.execute_reply": "2024-05-21T19:50:16.271724Z"
    },
    "papermill": {
     "duration": 0.0213,
     "end_time": "2024-05-21T19:50:16.275759",
     "exception": false,
     "start_time": "2024-05-21T19:50:16.254459",
     "status": "completed"
    },
    "tags": []
   },
   "outputs": [],
   "source": [
    "a=data['Pclass'].value_counts()"
   ]
  },
  {
   "cell_type": "code",
   "execution_count": 9,
   "id": "3a325665",
   "metadata": {
    "execution": {
     "iopub.execute_input": "2024-05-21T19:50:16.297153Z",
     "iopub.status.busy": "2024-05-21T19:50:16.296133Z",
     "iopub.status.idle": "2024-05-21T19:50:16.306471Z",
     "shell.execute_reply": "2024-05-21T19:50:16.305355Z"
    },
    "papermill": {
     "duration": 0.024969,
     "end_time": "2024-05-21T19:50:16.310291",
     "exception": false,
     "start_time": "2024-05-21T19:50:16.285322",
     "status": "completed"
    },
    "tags": []
   },
   "outputs": [
    {
     "data": {
      "text/plain": [
       "Pclass\n",
       "3    0.551066\n",
       "1    0.242424\n",
       "2    0.206510\n",
       "Name: count, dtype: float64"
      ]
     },
     "execution_count": 9,
     "metadata": {},
     "output_type": "execute_result"
    }
   ],
   "source": [
    "a/a.sum()"
   ]
  },
  {
   "cell_type": "code",
   "execution_count": 10,
   "id": "3f841c2a",
   "metadata": {
    "execution": {
     "iopub.execute_input": "2024-05-21T19:50:16.325565Z",
     "iopub.status.busy": "2024-05-21T19:50:16.324751Z",
     "iopub.status.idle": "2024-05-21T19:50:16.332823Z",
     "shell.execute_reply": "2024-05-21T19:50:16.331853Z"
    },
    "papermill": {
     "duration": 0.017139,
     "end_time": "2024-05-21T19:50:16.334958",
     "exception": false,
     "start_time": "2024-05-21T19:50:16.317819",
     "status": "completed"
    },
    "tags": []
   },
   "outputs": [
    {
     "data": {
      "text/plain": [
       "array([55.10662177, 24.24242424, 20.65095398])"
      ]
     },
     "execution_count": 10,
     "metadata": {},
     "output_type": "execute_result"
    }
   ],
   "source": [
    "b=((a/a.sum())*100).values\n",
    "b"
   ]
  },
  {
   "cell_type": "code",
   "execution_count": 11,
   "id": "03cef318",
   "metadata": {
    "execution": {
     "iopub.execute_input": "2024-05-21T19:50:16.348416Z",
     "iopub.status.busy": "2024-05-21T19:50:16.347450Z",
     "iopub.status.idle": "2024-05-21T19:50:16.353292Z",
     "shell.execute_reply": "2024-05-21T19:50:16.352320Z"
    },
    "papermill": {
     "duration": 0.015023,
     "end_time": "2024-05-21T19:50:16.355695",
     "exception": false,
     "start_time": "2024-05-21T19:50:16.340672",
     "status": "completed"
    },
    "tags": []
   },
   "outputs": [
    {
     "name": "stdout",
     "output_type": "stream",
     "text": [
      "[55.106621773288445, 79.34904601571269, 100.0]\n"
     ]
    }
   ],
   "source": [
    "c=[]\n",
    "cf = 0\n",
    "for i in b:\n",
    "    cf = cf + i\n",
    "    c.append(cf)\n",
    "    \n",
    "    \n",
    "print(c)"
   ]
  },
  {
   "cell_type": "code",
   "execution_count": 12,
   "id": "d0ecc953",
   "metadata": {
    "execution": {
     "iopub.execute_input": "2024-05-21T19:50:16.370571Z",
     "iopub.status.busy": "2024-05-21T19:50:16.369674Z",
     "iopub.status.idle": "2024-05-21T19:50:16.618610Z",
     "shell.execute_reply": "2024-05-21T19:50:16.617565Z"
    },
    "papermill": {
     "duration": 0.258494,
     "end_time": "2024-05-21T19:50:16.621047",
     "exception": false,
     "start_time": "2024-05-21T19:50:16.362553",
     "status": "completed"
    },
    "tags": []
   },
   "outputs": [
    {
     "data": {
      "text/plain": [
       "[<matplotlib.lines.Line2D at 0x7cb841d67b80>]"
      ]
     },
     "execution_count": 12,
     "metadata": {},
     "output_type": "execute_result"
    },
    {
     "data": {
      "image/png": "[encoded data removed]",
      "text/plain": [
       "<Figure size 640x480 with 1 Axes>"
      ]
     },
     "metadata": {},
     "output_type": "display_data"
    }
   ],
   "source": [
    "plt.plot(c, marker='D')"
   ]
  },
  {
   "cell_type": "code",
   "execution_count": 13,
   "id": "ddfc7d27",
   "metadata": {
    "execution": {
     "iopub.execute_input": "2024-05-21T19:50:16.635684Z",
     "iopub.status.busy": "2024-05-21T19:50:16.634735Z",
     "iopub.status.idle": "2024-05-21T19:50:16.901788Z",
     "shell.execute_reply": "2024-05-21T19:50:16.900625Z"
    },
    "papermill": {
     "duration": 0.276934,
     "end_time": "2024-05-21T19:50:16.904353",
     "exception": false,
     "start_time": "2024-05-21T19:50:16.627419",
     "status": "completed"
    },
    "tags": []
   },
   "outputs": [
    {
     "data": {
      "text/plain": [
       "(array([ 54.,  46., 177., 169., 118.,  70.,  45.,  24.,   9.,   2.]),\n",
       " array([ 0.42 ,  8.378, 16.336, 24.294, 32.252, 40.21 , 48.168, 56.126,\n",
       "        64.084, 72.042, 80.   ]),\n",
       " <BarContainer object of 10 artists>)"
      ]
     },
     "execution_count": 13,
     "metadata": {},
     "output_type": "execute_result"
    },
    {
     "data": {
      "image/png": "[encoded data removed]",
      "text/plain": [
       "<Figure size 640x480 with 1 Axes>"
      ]
     },
     "metadata": {},
     "output_type": "display_data"
    }
   ],
   "source": [
    "plt.hist(data['Age'].values)"
   ]
  },
  {
   "cell_type": "code",
   "execution_count": 14,
   "id": "4f750d3c",
   "metadata": {
    "execution": {
     "iopub.execute_input": "2024-05-21T19:50:16.919618Z",
     "iopub.status.busy": "2024-05-21T19:50:16.919247Z",
     "iopub.status.idle": "2024-05-21T19:50:17.122895Z",
     "shell.execute_reply": "2024-05-21T19:50:17.121824Z"
    },
    "papermill": {
     "duration": 0.213999,
     "end_time": "2024-05-21T19:50:17.125309",
     "exception": false,
     "start_time": "2024-05-21T19:50:16.911310",
     "status": "completed"
    },
    "tags": []
   },
   "outputs": [
    {
     "data": {
      "text/plain": [
       "<Axes: xlabel='Age'>"
      ]
     },
     "execution_count": 14,
     "metadata": {},
     "output_type": "execute_result"
    },
    {
     "data": {
      "image/png": "[encoded data removed]",
      "text/plain": [
       "<Figure size 640x480 with 1 Axes>"
      ]
     },
     "metadata": {},
     "output_type": "display_data"
    }
   ],
   "source": [
    "sns.boxplot(x='Age', data=data)"
   ]
  },
  {
   "cell_type": "code",
   "execution_count": 15,
   "id": "b2f7d1e2",
   "metadata": {
    "execution": {
     "iopub.execute_input": "2024-05-21T19:50:17.140871Z",
     "iopub.status.busy": "2024-05-21T19:50:17.140482Z",
     "iopub.status.idle": "2024-05-21T19:50:17.155638Z",
     "shell.execute_reply": "2024-05-21T19:50:17.154528Z"
    },
    "papermill": {
     "duration": 0.025564,
     "end_time": "2024-05-21T19:50:17.157822",
     "exception": false,
     "start_time": "2024-05-21T19:50:17.132258",
     "status": "completed"
    },
    "tags": []
   },
   "outputs": [
    {
     "data": {
      "text/plain": [
       "28.0"
      ]
     },
     "execution_count": 15,
     "metadata": {},
     "output_type": "execute_result"
    }
   ],
   "source": [
    "data_clean = data.dropna(subset=['Age'])\n",
    "a=data_clean['Age'].values\n",
    "np.median(a)"
   ]
  },
  {
   "cell_type": "code",
   "execution_count": 16,
   "id": "04562a66",
   "metadata": {
    "execution": {
     "iopub.execute_input": "2024-05-21T19:50:17.173668Z",
     "iopub.status.busy": "2024-05-21T19:50:17.173288Z",
     "iopub.status.idle": "2024-05-21T19:50:17.482034Z",
     "shell.execute_reply": "2024-05-21T19:50:17.480688Z"
    },
    "papermill": {
     "duration": 0.319797,
     "end_time": "2024-05-21T19:50:17.484588",
     "exception": false,
     "start_time": "2024-05-21T19:50:17.164791",
     "status": "completed"
    },
    "tags": []
   },
   "outputs": [
    {
     "name": "stderr",
     "output_type": "stream",
     "text": [
      "/opt/conda/lib/python3.10/site-packages/seaborn/_oldcore.py:1119: FutureWarning: use_inf_as_na option is deprecated and will be removed in a future version. Convert inf values to NaN before operating instead.\n",
      "  with pd.option_context('mode.use_inf_as_na', True):\n"
     ]
    },
    {
     "data": {
      "text/plain": [
       "<Axes: xlabel='Age', ylabel='Density'>"
      ]
     },
     "execution_count": 16,
     "metadata": {},
     "output_type": "execute_result"
    },
    {
     "data": {
      "image/png": "[encoded data removed]",
      "text/plain": [
       "<Figure size 640x480 with 1 Axes>"
      ]
     },
     "metadata": {},
     "output_type": "display_data"
    }
   ],
   "source": [
    "sns.kdeplot(data['Age'])"
   ]
  }
 ],
 "metadata": {
  "kaggle": {
   "accelerator": "none",
   "dataSources": [
    {
     "databundleVersionId": 26502,
     "sourceId": 3136,
     "sourceType": "competition"
    }
   ],
   "dockerImageVersionId": 30698,
   "isGpuEnabled": false,
   "isInternetEnabled": true,
   "language": "python",
   "sourceType": "notebook"
  },
  "kernelspec": {
   "display_name": "Python 3",
   "language": "python",
   "name": "python3"
  },
  "language_info": {
   "codemirror_mode": {
    "name": "ipython",
    "version": 3
   },
   "file_extension": ".py",
   "mimetype": "text/x-python",
   "name": "python",
   "nbconvert_exporter": "python",
   "pygments_lexer": "ipython3",
   "version": "3.10.13"
  },
  "papermill": {
   "default_parameters": {},
   "duration": 7.190434,
   "end_time": "2024-05-21T19:50:18.013049",
   "environment_variables": {},
   "exception": null,
   "input_path": "__notebook__.ipynb",
   "output_path": "__notebook__.ipynb",
   "parameters": {},
   "start_time": "2024-05-21T19:50:10.822615",
   "version": "2.5.0"
  }
 },
 "nbformat": 4,
 "nbformat_minor": 5
}
