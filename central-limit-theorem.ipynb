{
 "cells": [
  {
   "cell_type": "code",
   "execution_count": 1,
   "id": "51270e6a",
   "metadata": {
    "_cell_guid": "b1076dfc-b9ad-4769-8c92-a6c4dae69d19",
    "_uuid": "8f2839f25d086af736a60e9eeb907d3b93b6e0e5",
    "execution": {
     "iopub.execute_input": "2024-05-23T15:12:03.474161Z",
     "iopub.status.busy": "2024-05-23T15:12:03.473658Z",
     "iopub.status.idle": "2024-05-23T15:12:04.569753Z",
     "shell.execute_reply": "2024-05-23T15:12:04.568195Z"
    },
    "papermill": {
     "duration": 1.107824,
     "end_time": "2024-05-23T15:12:04.572683",
     "exception": false,
     "start_time": "2024-05-23T15:12:03.464859",
     "status": "completed"
    },
    "tags": []
   },
   "outputs": [
    {
     "name": "stdout",
     "output_type": "stream",
     "text": [
      "/kaggle/input/ipl-complete-dataset-20082020/matches.csv\n",
      "/kaggle/input/ipl-complete-dataset-20082020/deliveries.csv\n"
     ]
    }
   ],
   "source": [
    "# This Python 3 environment comes with many helpful analytics libraries installed\n",
    "# It is defined by the kaggle/python Docker image: https://github.com/kaggle/docker-python\n",
    "# For example, here's several helpful packages to load\n",
    "\n",
    "import numpy as np # linear algebra\n",
    "import pandas as pd # data processing, CSV file I/O (e.g. pd.read_csv)\n",
    "\n",
    "# Input data files are available in the read-only \"../input/\" directory\n",
    "# For example, running this (by clicking run or pressing Shift+Enter) will list all files under the input directory\n",
    "\n",
    "import os\n",
    "for dirname, _, filenames in os.walk('/kaggle/input'):\n",
    "    for filename in filenames:\n",
    "        print(os.path.join(dirname, filename))\n",
    "\n",
    "# You can write up to 20GB to the current directory (/kaggle/working/) that gets preserved as output when you create a version using \"Save & Run All\" \n",
    "# You can also write temporary files to /kaggle/temp/, but they won't be saved outside of the current session"
   ]
  },
  {
   "cell_type": "code",
   "execution_count": 2,
   "id": "107fa90e",
   "metadata": {
    "execution": {
     "iopub.execute_input": "2024-05-23T15:12:04.587367Z",
     "iopub.status.busy": "2024-05-23T15:12:04.586715Z",
     "iopub.status.idle": "2024-05-23T15:12:06.106568Z",
     "shell.execute_reply": "2024-05-23T15:12:06.105466Z"
    },
    "papermill": {
     "duration": 1.530858,
     "end_time": "2024-05-23T15:12:06.109798",
     "exception": false,
     "start_time": "2024-05-23T15:12:04.578940",
     "status": "completed"
    },
    "tags": []
   },
   "outputs": [],
   "source": [
    "from scipy.stats import norm\n",
    "import seaborn as sns\n",
    "import matplotlib.pyplot as plt"
   ]
  },
  {
   "cell_type": "code",
   "execution_count": 3,
   "id": "9f2dbe29",
   "metadata": {
    "execution": {
     "iopub.execute_input": "2024-05-23T15:12:06.124684Z",
     "iopub.status.busy": "2024-05-23T15:12:06.124239Z",
     "iopub.status.idle": "2024-05-23T15:12:07.286700Z",
     "shell.execute_reply": "2024-05-23T15:12:07.285821Z"
    },
    "papermill": {
     "duration": 1.172904,
     "end_time": "2024-05-23T15:12:07.289133",
     "exception": false,
     "start_time": "2024-05-23T15:12:06.116229",
     "status": "completed"
    },
    "tags": []
   },
   "outputs": [
    {
     "data": {
      "text/html": [
       "<div>\n",
       "<style scoped>\n",
       "    .dataframe tbody tr th:only-of-type {\n",
       "        vertical-align: middle;\n",
       "    }\n",
       "\n",
       "    .dataframe tbody tr th {\n",
       "        vertical-align: top;\n",
       "    }\n",
       "\n",
       "    .dataframe thead th {\n",
       "        text-align: right;\n",
       "    }\n",
       "</style>\n",
       "<table border=\"1\" class=\"dataframe\">\n",
       "  <thead>\n",
       "    <tr style=\"text-align: right;\">\n",
       "      <th></th>\n",
       "      <th>match_id</th>\n",
       "      <th>inning</th>\n",
       "      <th>batting_team</th>\n",
       "      <th>bowling_team</th>\n",
       "      <th>over</th>\n",
       "      <th>ball</th>\n",
       "      <th>batter</th>\n",
       "      <th>bowler</th>\n",
       "      <th>non_striker</th>\n",
       "      <th>batsman_runs</th>\n",
       "      <th>extra_runs</th>\n",
       "      <th>total_runs</th>\n",
       "      <th>extras_type</th>\n",
       "      <th>is_wicket</th>\n",
       "      <th>player_dismissed</th>\n",
       "      <th>dismissal_kind</th>\n",
       "      <th>fielder</th>\n",
       "    </tr>\n",
       "  </thead>\n",
       "  <tbody>\n",
       "    <tr>\n",
       "      <th>0</th>\n",
       "      <td>335982</td>\n",
       "      <td>1</td>\n",
       "      <td>Kolkata Knight Riders</td>\n",
       "      <td>Royal Challengers Bangalore</td>\n",
       "      <td>0</td>\n",
       "      <td>1</td>\n",
       "      <td>SC Ganguly</td>\n",
       "      <td>P Kumar</td>\n",
       "      <td>BB McCullum</td>\n",
       "      <td>0</td>\n",
       "      <td>1</td>\n",
       "      <td>1</td>\n",
       "      <td>legbyes</td>\n",
       "      <td>0</td>\n",
       "      <td>NaN</td>\n",
       "      <td>NaN</td>\n",
       "      <td>NaN</td>\n",
       "    </tr>\n",
       "    <tr>\n",
       "      <th>1</th>\n",
       "      <td>335982</td>\n",
       "      <td>1</td>\n",
       "      <td>Kolkata Knight Riders</td>\n",
       "      <td>Royal Challengers Bangalore</td>\n",
       "      <td>0</td>\n",
       "      <td>2</td>\n",
       "      <td>BB McCullum</td>\n",
       "      <td>P Kumar</td>\n",
       "      <td>SC Ganguly</td>\n",
       "      <td>0</td>\n",
       "      <td>0</td>\n",
       "      <td>0</td>\n",
       "      <td>NaN</td>\n",
       "      <td>0</td>\n",
       "      <td>NaN</td>\n",
       "      <td>NaN</td>\n",
       "      <td>NaN</td>\n",
       "    </tr>\n",
       "    <tr>\n",
       "      <th>2</th>\n",
       "      <td>335982</td>\n",
       "      <td>1</td>\n",
       "      <td>Kolkata Knight Riders</td>\n",
       "      <td>Royal Challengers Bangalore</td>\n",
       "      <td>0</td>\n",
       "      <td>3</td>\n",
       "      <td>BB McCullum</td>\n",
       "      <td>P Kumar</td>\n",
       "      <td>SC Ganguly</td>\n",
       "      <td>0</td>\n",
       "      <td>1</td>\n",
       "      <td>1</td>\n",
       "      <td>wides</td>\n",
       "      <td>0</td>\n",
       "      <td>NaN</td>\n",
       "      <td>NaN</td>\n",
       "      <td>NaN</td>\n",
       "    </tr>\n",
       "    <tr>\n",
       "      <th>3</th>\n",
       "      <td>335982</td>\n",
       "      <td>1</td>\n",
       "      <td>Kolkata Knight Riders</td>\n",
       "      <td>Royal Challengers Bangalore</td>\n",
       "      <td>0</td>\n",
       "      <td>4</td>\n",
       "      <td>BB McCullum</td>\n",
       "      <td>P Kumar</td>\n",
       "      <td>SC Ganguly</td>\n",
       "      <td>0</td>\n",
       "      <td>0</td>\n",
       "      <td>0</td>\n",
       "      <td>NaN</td>\n",
       "      <td>0</td>\n",
       "      <td>NaN</td>\n",
       "      <td>NaN</td>\n",
       "      <td>NaN</td>\n",
       "    </tr>\n",
       "    <tr>\n",
       "      <th>4</th>\n",
       "      <td>335982</td>\n",
       "      <td>1</td>\n",
       "      <td>Kolkata Knight Riders</td>\n",
       "      <td>Royal Challengers Bangalore</td>\n",
       "      <td>0</td>\n",
       "      <td>5</td>\n",
       "      <td>BB McCullum</td>\n",
       "      <td>P Kumar</td>\n",
       "      <td>SC Ganguly</td>\n",
       "      <td>0</td>\n",
       "      <td>0</td>\n",
       "      <td>0</td>\n",
       "      <td>NaN</td>\n",
       "      <td>0</td>\n",
       "      <td>NaN</td>\n",
       "      <td>NaN</td>\n",
       "      <td>NaN</td>\n",
       "    </tr>\n",
       "  </tbody>\n",
       "</table>\n",
       "</div>"
      ],
      "text/plain": [
       "   match_id  inning           batting_team                 bowling_team  over  \\\n",
       "0    335982       1  Kolkata Knight Riders  Royal Challengers Bangalore     0   \n",
       "1    335982       1  Kolkata Knight Riders  Royal Challengers Bangalore     0   \n",
       "2    335982       1  Kolkata Knight Riders  Royal Challengers Bangalore     0   \n",
       "3    335982       1  Kolkata Knight Riders  Royal Challengers Bangalore     0   \n",
       "4    335982       1  Kolkata Knight Riders  Royal Challengers Bangalore     0   \n",
       "\n",
       "   ball       batter   bowler  non_striker  batsman_runs  extra_runs  \\\n",
       "0     1   SC Ganguly  P Kumar  BB McCullum             0           1   \n",
       "1     2  BB McCullum  P Kumar   SC Ganguly             0           0   \n",
       "2     3  BB McCullum  P Kumar   SC Ganguly             0           1   \n",
       "3     4  BB McCullum  P Kumar   SC Ganguly             0           0   \n",
       "4     5  BB McCullum  P Kumar   SC Ganguly             0           0   \n",
       "\n",
       "   total_runs extras_type  is_wicket player_dismissed dismissal_kind fielder  \n",
       "0           1     legbyes          0              NaN            NaN     NaN  \n",
       "1           0         NaN          0              NaN            NaN     NaN  \n",
       "2           1       wides          0              NaN            NaN     NaN  \n",
       "3           0         NaN          0              NaN            NaN     NaN  \n",
       "4           0         NaN          0              NaN            NaN     NaN  "
      ]
     },
     "execution_count": 3,
     "metadata": {},
     "output_type": "execute_result"
    }
   ],
   "source": [
    "data=pd.read_csv('/kaggle/input/ipl-complete-dataset-20082020/deliveries.csv')\n",
    "data.head()"
   ]
  },
  {
   "cell_type": "code",
   "execution_count": 4,
   "id": "84659d38",
   "metadata": {
    "execution": {
     "iopub.execute_input": "2024-05-23T15:12:07.304012Z",
     "iopub.status.busy": "2024-05-23T15:12:07.303489Z",
     "iopub.status.idle": "2024-05-23T15:12:08.441171Z",
     "shell.execute_reply": "2024-05-23T15:12:08.439937Z"
    },
    "papermill": {
     "duration": 1.148349,
     "end_time": "2024-05-23T15:12:08.443857",
     "exception": false,
     "start_time": "2024-05-23T15:12:07.295508",
     "status": "completed"
    },
    "tags": []
   },
   "outputs": [
    {
     "data": {
      "text/plain": [
       "batter\n",
       "A Ashish Reddy     280\n",
       "A Badoni           399\n",
       "A Chandila           4\n",
       "A Chopra            53\n",
       "A Choudhary         25\n",
       "                  ... \n",
       "Yashpal Singh       47\n",
       "Younis Khan          3\n",
       "Yudhvir Singh        1\n",
       "Yuvraj Singh      2754\n",
       "Z Khan             117\n",
       "Name: batsman_runs, Length: 637, dtype: int64"
      ]
     },
     "execution_count": 4,
     "metadata": {},
     "output_type": "execute_result"
    }
   ],
   "source": [
    "runs=data.groupby('batter').sum()['batsman_runs']\n",
    "runs"
   ]
  },
  {
   "cell_type": "code",
   "execution_count": 5,
   "id": "e0622938",
   "metadata": {
    "execution": {
     "iopub.execute_input": "2024-05-23T15:12:08.459496Z",
     "iopub.status.busy": "2024-05-23T15:12:08.459009Z",
     "iopub.status.idle": "2024-05-23T15:12:08.468203Z",
     "shell.execute_reply": "2024-05-23T15:12:08.466889Z"
    },
    "papermill": {
     "duration": 0.022485,
     "end_time": "2024-05-23T15:12:08.473137",
     "exception": false,
     "start_time": "2024-05-23T15:12:08.450652",
     "status": "completed"
    },
    "tags": []
   },
   "outputs": [
    {
     "name": "stdout",
     "output_type": "stream",
     "text": [
      "[ 280  399    4   53   25    4   62   35  222  381   34   19   41   45\n",
      "    2  974    4    4   15   69   12  217    9  179   42   26  123 5181\n",
      "  120 2069   20  181  148   79  724   90 2266   23   10   49 2092   16\n",
      "    3   91  775  401  672 4400   36    7   34   87  339   12 1418   27\n",
      "   26  194   23   49   32 4348   22   39    1  397    0  893   33   17\n",
      "  115   63   87    7  134  220   36   13   18   25  186   31  388   76\n",
      "  280   21  283    5  124  507    5   35    6  935    3 2882  125   10\n",
      "  238    1   18 1400  193   23   40   32  187  452   15  177    0   20\n",
      "  303  205 1329  390 4997  618  538   98   81    8   16    8  971  169\n",
      "  181   78    4   25  161    3 1521   44   33  148   10 2714 6399   12\n",
      "  304  375   21    0  170 1560  111 1321 1322   92   26   33    1   39\n",
      "   53  295  115   80  121    6   11  924    4    1 1808   19   44   13\n",
      " 2385  104   18  460   13  167  152  654 1406   24   14 4133   14    4\n",
      "  183    3 4217   22  739    3    4   65  284    2  663 2720   15  511\n",
      "    2  514  190   22    1  886 2318  577   66  236  833   18  158   96\n",
      "    2    7   56   15    0 1150   76    7   33   88 2324   23  409   70\n",
      "   29   10   40  975   15  199 3224  604  173  106   92   10    3  327\n",
      " 2427   56  614   18    0   15 1291   26  543  259    6 2029  527    8\n",
      "   19  417   78    8   36  218  247    9  186   12    0   65 3437   10\n",
      "   51   24 1687 4517 1514   13    1  116 1496   22 4169    0 1208   18\n",
      "    5    2 1001  379    0  199   16 2105  320   36  128    3   12   13\n",
      "  136    0   36   34   81  302    1   67  106 1079   40  405 1017  828\n",
      "  295    4   35   48  259  113   73  514   48  126   20   11    9   55\n",
      "  426    7 2619 1083    1 2605   24   96   12 1000  125  237   26   14\n",
      " 1977  177   58  167   98  271  278   85   56  402 3817 1695 1107 1034\n",
      "   39  122  161  167 1478  604  798 5082   99  179  394  117 1706    2\n",
      "  117    2    3   64  186   74   97    1   23   12    6    7   13  162\n",
      " 1270 2594  140  241    0   20    1  121   26  424   82   31   19 1554\n",
      "   33   16    8  506    8   51    5    8  127   23  340  365    1   19\n",
      "   19  422 2848  164  277  505  203  218  379   26  273    1   97  609\n",
      "   16 1694   92    6   18   43   72    7   17 2910  714  342   19  210\n",
      " 2174  159    3  600  257   51    0  270   66   58   19  825  310   11\n",
      " 2692 2071  108 1797   83  159    2 6213  117   32  103    7  725  404\n",
      "  326    0   52    0 2851   67   20  262   73  531    2    4   91   50\n",
      "   80 4954  227   45  443   12   28  136   59   13 1441   25 6617 1106\n",
      "  180   20    0    0    0   39   37   91    2  368   34   31    3  145\n",
      "   22  423 3249   49   28    6  131    2 1349   99   15    1 2489  106\n",
      "    5 5536   42  198   88  613    9  241  147   10  585  286 1130  196\n",
      "  293   61 1046 2495 2334 3880    0 2780  102    6 1494  768  880 3888\n",
      "  503   23  144  193   54   11  321   81  795   69   51    5    1    2\n",
      "   52 2790  139    7   36    0   43   14   18   11   11    3    2   27\n",
      "   31   12   69   10  120  418  127   26  676 1153  205    8   75    8\n",
      "   21  740    0    7  300  127  196   39   23 7273    0 2728 1032    8\n",
      "   29   50  956    4    7    2  282   15   13   15   56   69  130   56\n",
      "   65 2798   81  378   10   19  285    0  985    0 1172 3222   37   16\n",
      "  192    0   47    3    1 2754  117]\n"
     ]
    }
   ],
   "source": [
    "runs=runs.values\n",
    "print(runs)\n"
   ]
  },
  {
   "cell_type": "code",
   "execution_count": 6,
   "id": "d49306e9",
   "metadata": {
    "execution": {
     "iopub.execute_input": "2024-05-23T15:12:08.489884Z",
     "iopub.status.busy": "2024-05-23T15:12:08.489386Z",
     "iopub.status.idle": "2024-05-23T15:12:09.187338Z",
     "shell.execute_reply": "2024-05-23T15:12:09.185978Z"
    },
    "papermill": {
     "duration": 0.709773,
     "end_time": "2024-05-23T15:12:09.190167",
     "exception": false,
     "start_time": "2024-05-23T15:12:08.480394",
     "status": "completed"
    },
    "tags": []
   },
   "outputs": [
    {
     "name": "stderr",
     "output_type": "stream",
     "text": [
      "/tmp/ipykernel_18/1329827010.py:1: UserWarning: \n",
      "\n",
      "`distplot` is a deprecated function and will be removed in seaborn v0.14.0.\n",
      "\n",
      "Please adapt your code to use either `displot` (a figure-level function with\n",
      "similar flexibility) or `histplot` (an axes-level function for histograms).\n",
      "\n",
      "For a guide to updating your code to use the new functions, please see\n",
      "https://gist.github.com/mwaskom/de44147ed2974457ad6372750bbe5751\n",
      "\n",
      "  sns.distplot(runs)\n",
      "/opt/conda/lib/python3.10/site-packages/seaborn/_oldcore.py:1119: FutureWarning: use_inf_as_na option is deprecated and will be removed in a future version. Convert inf values to NaN before operating instead.\n",
      "  with pd.option_context('mode.use_inf_as_na', True):\n"
     ]
    },
    {
     "data": {
      "text/plain": [
       "<Axes: ylabel='Density'>"
      ]
     },
     "execution_count": 6,
     "metadata": {},
     "output_type": "execute_result"
    },
    {
     "data": {
      "image/png": "[encoded data removed]",
      "text/plain": [
       "<Figure size 640x480 with 1 Axes>"
      ]
     },
     "metadata": {},
     "output_type": "display_data"
    }
   ],
   "source": [
    "sns.distplot(runs)"
   ]
  },
  {
   "cell_type": "code",
   "execution_count": 7,
   "id": "4eed7d02",
   "metadata": {
    "execution": {
     "iopub.execute_input": "2024-05-23T15:12:09.208229Z",
     "iopub.status.busy": "2024-05-23T15:12:09.207671Z",
     "iopub.status.idle": "2024-05-23T15:12:09.259164Z",
     "shell.execute_reply": "2024-05-23T15:12:09.257926Z"
    },
    "papermill": {
     "duration": 0.064555,
     "end_time": "2024-05-23T15:12:09.262585",
     "exception": false,
     "start_time": "2024-05-23T15:12:09.198030",
     "status": "completed"
    },
    "tags": []
   },
   "outputs": [],
   "source": [
    "n = 50\n",
    "m =1000\n",
    "\n",
    "new=[]\n",
    "\n",
    "for i in range(m):\n",
    "    x=np.random.choice(runs, size =n)\n",
    "    new.append(x.mean())"
   ]
  },
  {
   "cell_type": "code",
   "execution_count": 8,
   "id": "f119c081",
   "metadata": {
    "execution": {
     "iopub.execute_input": "2024-05-23T15:12:09.280669Z",
     "iopub.status.busy": "2024-05-23T15:12:09.280201Z",
     "iopub.status.idle": "2024-05-23T15:12:09.288030Z",
     "shell.execute_reply": "2024-05-23T15:12:09.286763Z"
    },
    "papermill": {
     "duration": 0.020079,
     "end_time": "2024-05-23T15:12:09.290757",
     "exception": false,
     "start_time": "2024-05-23T15:12:09.270678",
     "status": "completed"
    },
    "tags": []
   },
   "outputs": [
    {
     "data": {
      "text/plain": [
       "1000"
      ]
     },
     "execution_count": 8,
     "metadata": {},
     "output_type": "execute_result"
    }
   ],
   "source": [
    "len(new)"
   ]
  },
  {
   "cell_type": "code",
   "execution_count": 9,
   "id": "6002dd20",
   "metadata": {
    "collapsed": true,
    "execution": {
     "iopub.execute_input": "2024-05-23T15:12:09.308982Z",
     "iopub.status.busy": "2024-05-23T15:12:09.308468Z",
     "iopub.status.idle": "2024-05-23T15:12:09.328033Z",
     "shell.execute_reply": "2024-05-23T15:12:09.326985Z"
    },
    "jupyter": {
     "outputs_hidden": true
    },
    "papermill": {
     "duration": 0.032565,
     "end_time": "2024-05-23T15:12:09.331384",
     "exception": false,
     "start_time": "2024-05-23T15:12:09.298819",
     "status": "completed"
    },
    "tags": []
   },
   "outputs": [
    {
     "data": {
      "text/plain": [
       "array([ 537.94,  520.5 ,  609.38,  627.44,  447.62,  760.84,  274.48,\n",
       "        558.72,  497.12,  301.96,  517.54,  514.54,  370.68,  604.22,\n",
       "        462.24,  420.44,  217.04,  684.54,  831.78,  343.54,  401.66,\n",
       "        352.52,  496.4 ,  611.48,  455.22,  461.44,  715.64,  755.38,\n",
       "        494.7 ,  470.1 ,  288.14,  334.24,  280.12,  296.44,  453.12,\n",
       "        571.6 ,  743.5 ,  294.4 ,  519.8 ,  783.96,  429.36,  385.04,\n",
       "        970.96,  517.26,  791.82,  538.24,  446.18,  373.68,  521.94,\n",
       "        421.58,  409.42,  490.68,  434.72,  713.44,  551.62,  621.34,\n",
       "        640.78,  554.88,  567.32,  414.94,  335.84,  232.66,  480.46,\n",
       "        409.76,  594.6 ,  288.56,  688.2 ,  322.18,  486.06,  762.52,\n",
       "        688.86,  325.18,  664.74,  264.36,  652.96,  570.22,  622.44,\n",
       "        528.96,  434.78,  525.54,  312.32,  637.88,  489.78,  482.94,\n",
       "        336.6 ,  469.44,  638.06,  434.14,  356.54,  159.62,  254.06,\n",
       "        542.56,  419.34,  351.16,  448.18,  452.9 ,  403.38,  388.2 ,\n",
       "        524.92,  655.96,  498.14,  348.9 ,  525.3 ,  386.6 ,  453.74,\n",
       "        532.  ,  303.9 ,  309.3 ,  558.42,  370.56,  381.06,  479.84,\n",
       "        406.96,  582.08,  478.96,  599.72,  364.7 ,  500.16,  360.12,\n",
       "        428.74,  435.06,  264.1 ,  428.  ,  610.7 ,  316.82,  283.34,\n",
       "        388.5 ,  493.16,  553.38,  577.64,  431.36,  457.1 ,  547.72,\n",
       "        399.6 ,  334.98,  356.78,  593.94,  602.98,  362.54,  736.46,\n",
       "        586.54,  509.9 ,  378.72,  690.94,  339.62,  618.7 ,  339.  ,\n",
       "        461.6 ,  493.86,  293.56,  422.18,  415.78,  644.98,  288.26,\n",
       "        445.86,  517.  ,  459.1 ,  529.94,  938.8 ,  805.28,  792.36,\n",
       "        328.52,  418.58,  474.8 ,  392.5 ,  341.24,  439.6 ,  547.4 ,\n",
       "        590.64,  493.1 ,  578.92,  435.84,  276.56,  543.18,  185.36,\n",
       "        557.4 ,  443.68,  570.84,  495.08,  288.8 ,  317.36,  448.66,\n",
       "        564.96,  447.08,  435.08,  342.94,  366.14,  379.1 ,  356.98,\n",
       "        605.56,  590.34,  450.64,  538.12,  379.94,  378.16,  235.76,\n",
       "        480.88,  318.72,  310.32,  560.88,  699.62,  463.6 ,  574.64,\n",
       "        653.38,  693.4 ,  254.1 ,  439.4 ,  656.84,  731.24,  501.5 ,\n",
       "        636.94,  344.26,  527.9 ,  447.1 ,  665.96,  726.68,  564.62,\n",
       "        523.44,  259.02,  628.18,  729.96,  556.4 ,  589.42,  520.76,\n",
       "        355.98,  861.12,  597.12,  321.44,  745.5 ,  917.1 ,  415.88,\n",
       "        396.44,  454.5 ,  574.26,  478.18,  324.66,  777.18,  617.86,\n",
       "       1006.78,  349.14,  716.98,  415.44,  650.48,  564.2 ,  593.84,\n",
       "        446.66,  354.96,  299.5 ,  310.04,  469.3 ,  413.52,  467.8 ,\n",
       "        322.36,  367.88,  484.38,  516.34,  173.06,  717.96,  470.62,\n",
       "        591.46,  554.72,  287.26,  322.98,  345.56,  732.26,  529.6 ,\n",
       "        372.4 ,  448.36,  526.62,  631.08,  501.4 ,  587.58,  408.08,\n",
       "        411.64,  747.96,  455.1 ,  494.42,  400.18,  339.78,  670.66,\n",
       "        404.96,  486.06,  732.62,  350.4 ,  250.04,  400.56,  835.04,\n",
       "        627.46,  519.94,  846.48,  525.16,  366.36,  318.16,  450.8 ,\n",
       "        486.94,  359.44,  606.98,  570.  ,  345.28,  583.96,  312.66,\n",
       "        404.52,  374.92,  548.14,  346.04,  294.72,  439.14,  564.88,\n",
       "        398.26,  380.94,  717.32,  522.8 ,  449.32,  359.02,  473.44,\n",
       "        412.18,  429.08,  582.34,  242.  ,  335.9 ,  515.06,  508.72,\n",
       "        576.66,  484.7 ,  589.94,  523.46,  699.52,  644.64,  300.9 ,\n",
       "        385.28,  394.46,  664.72,  517.38,  600.36,  590.26,  288.22,\n",
       "        798.22,  433.78,  401.5 ,  441.8 ,  506.68,  361.58,  633.38,\n",
       "        291.56,  582.18,  719.56,  393.24,  304.28,  355.1 ,  743.12,\n",
       "        337.14,  635.68,  405.32,  429.64,  460.3 ,  309.48,  528.52,\n",
       "        383.98,  603.24,  451.  ,  454.36,  352.96,  280.86,  247.56,\n",
       "        426.52,  490.26,  394.34,  853.76,  738.38,  438.  ,  694.28,\n",
       "        580.28,  433.7 ,  470.68,  608.12,  420.94,  614.34,  152.36,\n",
       "        479.22,  714.24,  823.52,  403.82,  461.18,  529.24,  350.9 ,\n",
       "        287.14,  387.62,  466.86,  581.42,  809.02,  309.46,  545.52,\n",
       "        375.8 ,  588.48,  374.52,  951.74,  376.08,  764.14,  229.22,\n",
       "        495.96,  377.44,  724.94,  566.26,  516.8 ,  513.12,  783.04,\n",
       "        308.18,  481.82,  256.02,  301.72,  395.06,  451.94,  483.44,\n",
       "        669.28,  498.04,  486.6 ,  211.56,  309.18,  373.54,  632.28,\n",
       "        644.24,  549.22,  393.26,  448.36,  411.94,  462.44,  452.36,\n",
       "        394.76,  261.78,  408.66,  616.14,  382.78,  489.96,  338.38,\n",
       "        496.94,  551.84,  431.36,  318.76,  619.06,  315.74,  555.56,\n",
       "        484.48,  536.16,  477.68,  535.76,  309.18,  466.4 ,  604.4 ,\n",
       "        444.56,  655.38,  488.18,  473.  ,  410.94,  247.72,  427.08,\n",
       "        545.84,  487.1 ,  356.62,  238.32,  353.76,  516.36,  529.58,\n",
       "        540.98,  778.26,  292.06,  362.24,  330.92,  582.76,  505.34,\n",
       "        288.96,  557.6 ,  429.46,  582.46,  611.6 ,  679.26,  384.42,\n",
       "        598.16,  527.74,  433.44,  515.02,  372.46,  348.4 ,  554.18,\n",
       "        571.68,  441.42,  601.32,  633.96,  368.28,  318.28,  657.96,\n",
       "        232.04,  727.56,  394.06,  469.4 ,  229.46,  431.16,  330.26,\n",
       "        916.34,  581.2 ,  437.46,  294.1 ,  545.64,  548.62,  515.46,\n",
       "        555.  ,  647.42,  457.28,  534.8 ,  155.06,  424.  ,  511.96,\n",
       "        393.62,  261.64,  358.16,  615.94,  208.76,  411.  ,  357.3 ,\n",
       "        269.46,  315.74,  517.54,  444.8 ,  413.74,  463.98,  699.22,\n",
       "        571.72,  783.36,  888.2 ,  537.9 ,  326.44,  499.8 ,  339.56,\n",
       "        583.48,  291.02,  322.2 ,  542.64,  334.78,  322.24,  240.42,\n",
       "        339.78,  907.38,  597.02,  360.28,  637.8 ,  222.36,  465.08,\n",
       "        515.7 ,  342.4 ,  281.02,  960.32,  386.  ,  395.38,  299.24,\n",
       "        582.16,  594.02,  409.18,  307.08,  504.74,  329.9 ,  416.18,\n",
       "        581.78,  342.86,  411.68,  691.54,  424.82,  441.8 ,  412.68,\n",
       "        452.48,  543.92,  385.86,  344.3 ,  153.74,  304.5 ,  251.94,\n",
       "        700.62,  596.24,  432.5 ,  599.42,  410.4 ,  410.14,  647.2 ,\n",
       "        341.18,  471.18,  376.28,  620.78,  234.48,  363.18,  429.2 ,\n",
       "        735.88,  546.5 ,  659.36,  227.48,  686.72,  242.58,  540.14,\n",
       "        474.44,  557.32,  337.02,  673.94,  638.76,  339.32,  332.5 ,\n",
       "        235.06,  367.58,  531.28,  490.04,  403.22,  399.44,  571.66,\n",
       "        442.6 ,  346.74,  420.86,  492.66,  288.94,  610.04,  536.44,\n",
       "        321.36,  564.4 ,  339.18,  322.56,  321.  ,  706.26,  339.8 ,\n",
       "        351.3 ,  317.1 ,  607.04,  401.74,  566.54,  711.3 ,  318.28,\n",
       "        509.4 ,  634.98,  304.92,  439.96,  413.04,  489.06,  494.94,\n",
       "        313.98,  681.12,  429.14,  218.72,  262.04,  366.84,  599.94,\n",
       "        251.6 ,  345.1 ,  367.1 ,  304.86,  699.96,  551.18,  460.32,\n",
       "        684.52,  681.16,  530.44,  601.86,  619.9 ,  617.56,  413.24,\n",
       "        555.84,  629.06,  536.86,  394.88,  604.12,  403.3 ,  615.54,\n",
       "        548.56,  339.92,  392.78,  549.2 ,  322.28,  484.98,  702.32,\n",
       "        304.04,  737.4 ,  704.32,  497.78,  458.68,  525.36,  518.62,\n",
       "        587.52,  461.96,  166.72,  387.36,  454.9 ,  473.44,  306.58,\n",
       "        504.24,  381.88,  314.52,  503.52,  299.42,  310.52,  407.8 ,\n",
       "        531.66,  558.42,  372.  ,  517.72,  560.48,  329.14,  463.5 ,\n",
       "        593.  ,  415.16,  368.18,  386.34,  387.58,  452.38,  543.78,\n",
       "        495.  ,  421.74,  457.08,  398.86,  602.14,  288.02,  178.6 ,\n",
       "        584.42,  408.6 ,  369.  ,  469.6 ,  444.08,  408.16,  399.66,\n",
       "        425.76,  485.26,  557.76,  527.62,  540.94,  498.88,  627.76,\n",
       "        472.06,  388.48,  548.96,  255.54,  327.44,  448.46,  239.44,\n",
       "        466.02,  528.16,  573.46,  418.42,  428.04,  441.32,  486.98,\n",
       "        472.  ,  757.78,  593.98,  397.9 ,  452.98,  398.32,  387.78,\n",
       "        546.3 ,  329.8 ,  589.28,  293.56,  590.8 ,  565.02,  419.6 ,\n",
       "        660.3 ,  291.06,  528.76,  525.08,  331.36,  355.96,  575.6 ,\n",
       "        382.16,  445.76,  761.5 ,  942.04,  669.42,  268.94,  360.7 ,\n",
       "        616.46,  203.2 ,  657.4 ,  378.84,  611.08,  446.08,  519.18,\n",
       "        256.32,  589.98,  355.16,  640.06,  419.6 ,  704.82,  405.84,\n",
       "        191.36,  480.76,  362.08,  197.72,  512.32,  359.42,  382.48,\n",
       "        578.96,  471.32,  449.2 ,  279.58,  720.92,  314.62,  429.74,\n",
       "        413.88,  654.42,  376.6 ,  512.5 ,  519.2 ,  422.96,  568.26,\n",
       "        260.86,  252.6 ,  292.56,  230.66,  536.14,  329.36,  500.72,\n",
       "        554.04,  387.58,  518.8 ,  375.16,  438.52,  306.58,  229.8 ,\n",
       "        552.22,  377.  ,  501.26,  331.68,  191.2 ,  373.22,  619.92,\n",
       "        465.2 ,  641.84,  378.88,  536.46,  303.5 ,  571.76,  542.8 ,\n",
       "        631.56,  503.12,  297.68,  390.6 ,  618.84,  445.04,  358.08,\n",
       "        613.06,  331.62,  355.56,  430.84,  461.86,  227.66,  845.92,\n",
       "        455.12,  547.54,  528.76,  604.12,  458.88,  454.88,  447.5 ,\n",
       "        559.36,  341.1 ,  452.6 ,  607.64,  338.78,  495.16,  556.34,\n",
       "        400.26,  425.62,  401.28,  550.74,  781.18,  433.78,  539.5 ,\n",
       "        417.74,  508.52,  695.48,  604.88,  545.24,  675.64,  449.24,\n",
       "        423.42,  275.92,  769.42,  369.56,  821.22,  483.22,  377.92,\n",
       "        517.06,  409.84,  477.32,  517.  ,  556.72,  299.12,  617.3 ,\n",
       "        376.56,  348.82,  558.88,  491.04,  515.6 ,  372.32,  570.7 ,\n",
       "        309.66,  505.62,  491.38,  356.24,  528.28,  626.2 ,  333.4 ,\n",
       "        705.54,  354.34,  481.1 ,  289.24,  458.72,  461.8 ,  316.7 ,\n",
       "        396.18,  272.32,  372.04,  631.84,  185.04,  626.52,  379.2 ,\n",
       "        626.58,  492.76,  619.82,  422.16,  326.16,  562.12,  568.76,\n",
       "        247.96,  696.34,  549.3 ,  526.4 ,  414.76,  522.04,  515.42,\n",
       "        369.2 ,  389.44,  628.38,  542.52,  559.84,  395.04,  358.56,\n",
       "        391.66,  687.48,  481.4 ,  323.26,  516.98,  699.38,  619.64,\n",
       "        603.2 ,  337.02,  552.74,  415.76,  387.96,  655.44,  417.5 ,\n",
       "        526.58,  398.74,  573.3 ,  552.2 ,  503.34,  172.18,  416.1 ,\n",
       "        294.3 ,  475.58,  506.32,  378.1 ,  369.4 ,  688.48,  591.52,\n",
       "        441.22,  462.26,  490.12,  293.48,  536.94,  296.9 ,  445.78,\n",
       "        472.48,  840.36,  339.84,  804.22,  341.68,  434.56,  328.02,\n",
       "        357.5 ,  512.9 ,  585.7 ,  510.64,  567.34,  446.56,  549.58,\n",
       "        328.72,  505.14,  785.64,  809.2 ,  828.18,  422.26,  288.64,\n",
       "        549.06,  453.3 ,  369.42,  500.88,  507.24,  455.08])"
      ]
     },
     "execution_count": 9,
     "metadata": {},
     "output_type": "execute_result"
    }
   ],
   "source": [
    "new=np.array(new)\n",
    "new"
   ]
  },
  {
   "cell_type": "code",
   "execution_count": 10,
   "id": "31bb56bd",
   "metadata": {
    "execution": {
     "iopub.execute_input": "2024-05-23T15:12:09.350898Z",
     "iopub.status.busy": "2024-05-23T15:12:09.349853Z",
     "iopub.status.idle": "2024-05-23T15:12:09.715679Z",
     "shell.execute_reply": "2024-05-23T15:12:09.714132Z"
    },
    "papermill": {
     "duration": 0.378689,
     "end_time": "2024-05-23T15:12:09.718549",
     "exception": false,
     "start_time": "2024-05-23T15:12:09.339860",
     "status": "completed"
    },
    "tags": []
   },
   "outputs": [
    {
     "name": "stderr",
     "output_type": "stream",
     "text": [
      "/tmp/ipykernel_18/397519180.py:1: UserWarning: \n",
      "\n",
      "`distplot` is a deprecated function and will be removed in seaborn v0.14.0.\n",
      "\n",
      "Please adapt your code to use either `displot` (a figure-level function with\n",
      "similar flexibility) or `histplot` (an axes-level function for histograms).\n",
      "\n",
      "For a guide to updating your code to use the new functions, please see\n",
      "https://gist.github.com/mwaskom/de44147ed2974457ad6372750bbe5751\n",
      "\n",
      "  sns.distplot(new)\n",
      "/opt/conda/lib/python3.10/site-packages/seaborn/_oldcore.py:1119: FutureWarning: use_inf_as_na option is deprecated and will be removed in a future version. Convert inf values to NaN before operating instead.\n",
      "  with pd.option_context('mode.use_inf_as_na', True):\n"
     ]
    },
    {
     "data": {
      "text/plain": [
       "<Axes: ylabel='Density'>"
      ]
     },
     "execution_count": 10,
     "metadata": {},
     "output_type": "execute_result"
    },
    {
     "data": {
      "image/png": "[encoded data removed]",
      "text/plain": [
       "<Figure size 640x480 with 1 Axes>"
      ]
     },
     "metadata": {},
     "output_type": "display_data"
    }
   ],
   "source": [
    "sns.distplot(new)"
   ]
  },
  {
   "cell_type": "code",
   "execution_count": 11,
   "id": "e3d2ccf9",
   "metadata": {
    "execution": {
     "iopub.execute_input": "2024-05-23T15:12:09.739907Z",
     "iopub.status.busy": "2024-05-23T15:12:09.739404Z",
     "iopub.status.idle": "2024-05-23T15:12:09.746562Z",
     "shell.execute_reply": "2024-05-23T15:12:09.745579Z"
    },
    "papermill": {
     "duration": 0.020712,
     "end_time": "2024-05-23T15:12:09.749109",
     "exception": false,
     "start_time": "2024-05-23T15:12:09.728397",
     "status": "completed"
    },
    "tags": []
   },
   "outputs": [
    {
     "data": {
      "text/plain": [
       "479.4458398744113"
      ]
     },
     "execution_count": 11,
     "metadata": {},
     "output_type": "execute_result"
    }
   ],
   "source": [
    "runs.mean()"
   ]
  },
  {
   "cell_type": "code",
   "execution_count": 12,
   "id": "35a5be7b",
   "metadata": {
    "execution": {
     "iopub.execute_input": "2024-05-23T15:12:09.770685Z",
     "iopub.status.busy": "2024-05-23T15:12:09.769639Z",
     "iopub.status.idle": "2024-05-23T15:12:09.776504Z",
     "shell.execute_reply": "2024-05-23T15:12:09.775406Z"
    },
    "papermill": {
     "duration": 0.021185,
     "end_time": "2024-05-23T15:12:09.779662",
     "exception": false,
     "start_time": "2024-05-23T15:12:09.758477",
     "status": "completed"
    },
    "tags": []
   },
   "outputs": [
    {
     "data": {
      "text/plain": [
       "475.49012"
      ]
     },
     "execution_count": 12,
     "metadata": {},
     "output_type": "execute_result"
    }
   ],
   "source": [
    "new.mean()"
   ]
  },
  {
   "cell_type": "code",
   "execution_count": 13,
   "id": "0bb6d36c",
   "metadata": {
    "execution": {
     "iopub.execute_input": "2024-05-23T15:12:09.803130Z",
     "iopub.status.busy": "2024-05-23T15:12:09.802655Z",
     "iopub.status.idle": "2024-05-23T15:12:09.810874Z",
     "shell.execute_reply": "2024-05-23T15:12:09.809622Z"
    },
    "papermill": {
     "duration": 0.022728,
     "end_time": "2024-05-23T15:12:09.813464",
     "exception": false,
     "start_time": "2024-05-23T15:12:09.790736",
     "status": "completed"
    },
    "tags": []
   },
   "outputs": [
    {
     "data": {
      "text/plain": [
       "140.84240038840085"
      ]
     },
     "execution_count": 13,
     "metadata": {},
     "output_type": "execute_result"
    }
   ],
   "source": [
    "runs.std()/7.2"
   ]
  },
  {
   "cell_type": "code",
   "execution_count": 14,
   "id": "4d323cbc",
   "metadata": {
    "execution": {
     "iopub.execute_input": "2024-05-23T15:12:09.835659Z",
     "iopub.status.busy": "2024-05-23T15:12:09.835209Z",
     "iopub.status.idle": "2024-05-23T15:12:09.843105Z",
     "shell.execute_reply": "2024-05-23T15:12:09.841922Z"
    },
    "papermill": {
     "duration": 0.021951,
     "end_time": "2024-05-23T15:12:09.845630",
     "exception": false,
     "start_time": "2024-05-23T15:12:09.823679",
     "status": "completed"
    },
    "tags": []
   },
   "outputs": [
    {
     "data": {
      "text/plain": [
       "144.69594146065606"
      ]
     },
     "execution_count": 14,
     "metadata": {},
     "output_type": "execute_result"
    }
   ],
   "source": [
    "new.std()"
   ]
  },
  {
   "cell_type": "code",
   "execution_count": null,
   "id": "db3d3934",
   "metadata": {
    "papermill": {
     "duration": 0.009286,
     "end_time": "2024-05-23T15:12:09.864576",
     "exception": false,
     "start_time": "2024-05-23T15:12:09.855290",
     "status": "completed"
    },
    "tags": []
   },
   "outputs": [],
   "source": []
  }
 ],
 "metadata": {
  "kaggle": {
   "accelerator": "none",
   "dataSources": [
    {
     "datasetId": 990900,
     "sourceId": 8248090,
     "sourceType": "datasetVersion"
    }
   ],
   "dockerImageVersionId": 30698,
   "isGpuEnabled": false,
   "isInternetEnabled": true,
   "language": "python",
   "sourceType": "notebook"
  },
  "kernelspec": {
   "display_name": "Python 3",
   "language": "python",
   "name": "python3"
  },
  "language_info": {
   "codemirror_mode": {
    "name": "ipython",
    "version": 3
   },
   "file_extension": ".py",
   "mimetype": "text/x-python",
   "name": "python",
   "nbconvert_exporter": "python",
   "pygments_lexer": "ipython3",
   "version": "3.10.13"
  },
  "papermill": {
   "default_parameters": {},
   "duration": 10.706505,
   "end_time": "2024-05-23T15:12:10.799584",
   "environment_variables": {},
   "exception": null,
   "input_path": "__notebook__.ipynb",
   "output_path": "__notebook__.ipynb",
   "parameters": {},
   "start_time": "2024-05-23T15:12:00.093079",
   "version": "2.5.0"
  }
 },
 "nbformat": 4,
 "nbformat_minor": 5
}
