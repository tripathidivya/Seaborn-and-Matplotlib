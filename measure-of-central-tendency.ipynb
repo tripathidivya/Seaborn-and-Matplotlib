{
 "cells": [
  {
   "cell_type": "code",
   "execution_count": 1,
   "id": "b4613128",
   "metadata": {
    "_cell_guid": "b1076dfc-b9ad-4769-8c92-a6c4dae69d19",
    "_uuid": "8f2839f25d086af736a60e9eeb907d3b93b6e0e5",
    "execution": {
     "iopub.execute_input": "2024-05-21T21:48:30.948211Z",
     "iopub.status.busy": "2024-05-21T21:48:30.947688Z",
     "iopub.status.idle": "2024-05-21T21:48:31.978730Z",
     "shell.execute_reply": "2024-05-21T21:48:31.977484Z"
    },
    "papermill": {
     "duration": 1.042903,
     "end_time": "2024-05-21T21:48:31.981729",
     "exception": false,
     "start_time": "2024-05-21T21:48:30.938826",
     "status": "completed"
    },
    "tags": []
   },
   "outputs": [
    {
     "name": "stdout",
     "output_type": "stream",
     "text": [
      "/kaggle/input/iris-dataset/iris.csv\n"
     ]
    }
   ],
   "source": [
    "# This Python 3 environment comes with many helpful analytics libraries installed\n",
    "# It is defined by the kaggle/python Docker image: https://github.com/kaggle/docker-python\n",
    "# For example, here's several helpful packages to load\n",
    "\n",
    "import numpy as np # linear algebra\n",
    "import pandas as pd # data processing, CSV file I/O (e.g. pd.read_csv)\n",
    "\n",
    "# Input data files are available in the read-only \"../input/\" directory\n",
    "# For example, running this (by clicking run or pressing Shift+Enter) will list all files under the input directory\n",
    "\n",
    "import os\n",
    "for dirname, _, filenames in os.walk('/kaggle/input'):\n",
    "    for filename in filenames:\n",
    "        print(os.path.join(dirname, filename))\n",
    "\n",
    "# You can write up to 20GB to the current directory (/kaggle/working/) that gets preserved as output when you create a version using \"Save & Run All\" \n",
    "# You can also write temporary files to /kaggle/temp/, but they won't be saved outside of the current session"
   ]
  },
  {
   "cell_type": "code",
   "execution_count": 2,
   "id": "6f32da46",
   "metadata": {
    "execution": {
     "iopub.execute_input": "2024-05-21T21:48:31.997452Z",
     "iopub.status.busy": "2024-05-21T21:48:31.996771Z",
     "iopub.status.idle": "2024-05-21T21:48:33.568792Z",
     "shell.execute_reply": "2024-05-21T21:48:33.567634Z"
    },
    "papermill": {
     "duration": 1.582994,
     "end_time": "2024-05-21T21:48:33.571712",
     "exception": false,
     "start_time": "2024-05-21T21:48:31.988718",
     "status": "completed"
    },
    "tags": []
   },
   "outputs": [],
   "source": [
    "import pandas as pd\n",
    "import numpy as np\n",
    "import seaborn as sns\n",
    "import matplotlib.pyplot as plt"
   ]
  },
  {
   "cell_type": "code",
   "execution_count": 3,
   "id": "a6dfcae6",
   "metadata": {
    "execution": {
     "iopub.execute_input": "2024-05-21T21:48:33.587518Z",
     "iopub.status.busy": "2024-05-21T21:48:33.586646Z",
     "iopub.status.idle": "2024-05-21T21:48:33.628556Z",
     "shell.execute_reply": "2024-05-21T21:48:33.627055Z"
    },
    "papermill": {
     "duration": 0.053378,
     "end_time": "2024-05-21T21:48:33.631699",
     "exception": false,
     "start_time": "2024-05-21T21:48:33.578321",
     "status": "completed"
    },
    "tags": []
   },
   "outputs": [
    {
     "data": {
      "text/html": [
       "<div>\n",
       "<style scoped>\n",
       "    .dataframe tbody tr th:only-of-type {\n",
       "        vertical-align: middle;\n",
       "    }\n",
       "\n",
       "    .dataframe tbody tr th {\n",
       "        vertical-align: top;\n",
       "    }\n",
       "\n",
       "    .dataframe thead th {\n",
       "        text-align: right;\n",
       "    }\n",
       "</style>\n",
       "<table border=\"1\" class=\"dataframe\">\n",
       "  <thead>\n",
       "    <tr style=\"text-align: right;\">\n",
       "      <th></th>\n",
       "      <th>sepal_length</th>\n",
       "      <th>sepal_width</th>\n",
       "      <th>petal_length</th>\n",
       "      <th>petal_width</th>\n",
       "      <th>species</th>\n",
       "    </tr>\n",
       "  </thead>\n",
       "  <tbody>\n",
       "    <tr>\n",
       "      <th>0</th>\n",
       "      <td>5.1</td>\n",
       "      <td>3.5</td>\n",
       "      <td>1.4</td>\n",
       "      <td>0.2</td>\n",
       "      <td>setosa</td>\n",
       "    </tr>\n",
       "    <tr>\n",
       "      <th>1</th>\n",
       "      <td>4.9</td>\n",
       "      <td>3.0</td>\n",
       "      <td>1.4</td>\n",
       "      <td>0.2</td>\n",
       "      <td>setosa</td>\n",
       "    </tr>\n",
       "    <tr>\n",
       "      <th>2</th>\n",
       "      <td>4.7</td>\n",
       "      <td>3.2</td>\n",
       "      <td>1.3</td>\n",
       "      <td>0.2</td>\n",
       "      <td>setosa</td>\n",
       "    </tr>\n",
       "    <tr>\n",
       "      <th>3</th>\n",
       "      <td>4.6</td>\n",
       "      <td>3.1</td>\n",
       "      <td>1.5</td>\n",
       "      <td>0.2</td>\n",
       "      <td>setosa</td>\n",
       "    </tr>\n",
       "    <tr>\n",
       "      <th>4</th>\n",
       "      <td>5.0</td>\n",
       "      <td>3.6</td>\n",
       "      <td>1.4</td>\n",
       "      <td>0.2</td>\n",
       "      <td>setosa</td>\n",
       "    </tr>\n",
       "  </tbody>\n",
       "</table>\n",
       "</div>"
      ],
      "text/plain": [
       "   sepal_length  sepal_width  petal_length  petal_width species\n",
       "0           5.1          3.5           1.4          0.2  setosa\n",
       "1           4.9          3.0           1.4          0.2  setosa\n",
       "2           4.7          3.2           1.3          0.2  setosa\n",
       "3           4.6          3.1           1.5          0.2  setosa\n",
       "4           5.0          3.6           1.4          0.2  setosa"
      ]
     },
     "execution_count": 3,
     "metadata": {},
     "output_type": "execute_result"
    }
   ],
   "source": [
    "data= pd.read_csv('/kaggle/input/iris-dataset/iris.csv')\n",
    "data.head()"
   ]
  },
  {
   "cell_type": "code",
   "execution_count": 4,
   "id": "cc39622d",
   "metadata": {
    "execution": {
     "iopub.execute_input": "2024-05-21T21:48:33.647672Z",
     "iopub.status.busy": "2024-05-21T21:48:33.647223Z",
     "iopub.status.idle": "2024-05-21T21:48:33.666987Z",
     "shell.execute_reply": "2024-05-21T21:48:33.665818Z"
    },
    "papermill": {
     "duration": 0.030926,
     "end_time": "2024-05-21T21:48:33.669784",
     "exception": false,
     "start_time": "2024-05-21T21:48:33.638858",
     "status": "completed"
    },
    "tags": []
   },
   "outputs": [
    {
     "data": {
      "text/html": [
       "<div>\n",
       "<style scoped>\n",
       "    .dataframe tbody tr th:only-of-type {\n",
       "        vertical-align: middle;\n",
       "    }\n",
       "\n",
       "    .dataframe tbody tr th {\n",
       "        vertical-align: top;\n",
       "    }\n",
       "\n",
       "    .dataframe thead th {\n",
       "        text-align: right;\n",
       "    }\n",
       "</style>\n",
       "<table border=\"1\" class=\"dataframe\">\n",
       "  <thead>\n",
       "    <tr style=\"text-align: right;\">\n",
       "      <th></th>\n",
       "      <th>SL</th>\n",
       "      <th>SW</th>\n",
       "      <th>PL</th>\n",
       "      <th>PW</th>\n",
       "      <th>species</th>\n",
       "    </tr>\n",
       "  </thead>\n",
       "  <tbody>\n",
       "    <tr>\n",
       "      <th>0</th>\n",
       "      <td>5.1</td>\n",
       "      <td>3.5</td>\n",
       "      <td>1.4</td>\n",
       "      <td>0.2</td>\n",
       "      <td>setosa</td>\n",
       "    </tr>\n",
       "    <tr>\n",
       "      <th>1</th>\n",
       "      <td>4.9</td>\n",
       "      <td>3.0</td>\n",
       "      <td>1.4</td>\n",
       "      <td>0.2</td>\n",
       "      <td>setosa</td>\n",
       "    </tr>\n",
       "    <tr>\n",
       "      <th>2</th>\n",
       "      <td>4.7</td>\n",
       "      <td>3.2</td>\n",
       "      <td>1.3</td>\n",
       "      <td>0.2</td>\n",
       "      <td>setosa</td>\n",
       "    </tr>\n",
       "    <tr>\n",
       "      <th>3</th>\n",
       "      <td>4.6</td>\n",
       "      <td>3.1</td>\n",
       "      <td>1.5</td>\n",
       "      <td>0.2</td>\n",
       "      <td>setosa</td>\n",
       "    </tr>\n",
       "    <tr>\n",
       "      <th>4</th>\n",
       "      <td>5.0</td>\n",
       "      <td>3.6</td>\n",
       "      <td>1.4</td>\n",
       "      <td>0.2</td>\n",
       "      <td>setosa</td>\n",
       "    </tr>\n",
       "  </tbody>\n",
       "</table>\n",
       "</div>"
      ],
      "text/plain": [
       "    SL   SW   PL   PW species\n",
       "0  5.1  3.5  1.4  0.2  setosa\n",
       "1  4.9  3.0  1.4  0.2  setosa\n",
       "2  4.7  3.2  1.3  0.2  setosa\n",
       "3  4.6  3.1  1.5  0.2  setosa\n",
       "4  5.0  3.6  1.4  0.2  setosa"
      ]
     },
     "execution_count": 4,
     "metadata": {},
     "output_type": "execute_result"
    }
   ],
   "source": [
    "data.rename(columns={'sepal_length':'SL', 'sepal_width':'SW', 'petal_length':'PL', 'petal_width':'PW'}, inplace=True)\n",
    "data.head()"
   ]
  },
  {
   "cell_type": "code",
   "execution_count": 5,
   "id": "43f4b2c2",
   "metadata": {
    "execution": {
     "iopub.execute_input": "2024-05-21T21:48:33.686238Z",
     "iopub.status.busy": "2024-05-21T21:48:33.685796Z",
     "iopub.status.idle": "2024-05-21T21:48:33.702942Z",
     "shell.execute_reply": "2024-05-21T21:48:33.701712Z"
    },
    "papermill": {
     "duration": 0.028701,
     "end_time": "2024-05-21T21:48:33.705768",
     "exception": false,
     "start_time": "2024-05-21T21:48:33.677067",
     "status": "completed"
    },
    "tags": []
   },
   "outputs": [
    {
     "data": {
      "text/plain": [
       "species\n",
       "setosa        50\n",
       "versicolor    50\n",
       "virginica     50\n",
       "Name: count, dtype: int64"
      ]
     },
     "execution_count": 5,
     "metadata": {},
     "output_type": "execute_result"
    }
   ],
   "source": [
    "data['species'].value_counts()"
   ]
  },
  {
   "cell_type": "code",
   "execution_count": 6,
   "id": "774423d4",
   "metadata": {
    "execution": {
     "iopub.execute_input": "2024-05-21T21:48:33.724516Z",
     "iopub.status.busy": "2024-05-21T21:48:33.723909Z",
     "iopub.status.idle": "2024-05-21T21:48:33.743079Z",
     "shell.execute_reply": "2024-05-21T21:48:33.740982Z"
    },
    "papermill": {
     "duration": 0.033581,
     "end_time": "2024-05-21T21:48:33.746823",
     "exception": false,
     "start_time": "2024-05-21T21:48:33.713242",
     "status": "completed"
    },
    "tags": []
   },
   "outputs": [],
   "source": [
    "iris_setosa= data[data['species']=='setosa']\n",
    "iris_versicolor= data[data['species']=='versicolor']\n",
    "iris_virginica= data[data['species']=='virginica']"
   ]
  },
  {
   "cell_type": "markdown",
   "id": "1cda84db",
   "metadata": {
    "papermill": {
     "duration": 0.009875,
     "end_time": "2024-05-21T21:48:33.765529",
     "exception": false,
     "start_time": "2024-05-21T21:48:33.755654",
     "status": "completed"
    },
    "tags": []
   },
   "source": [
    "**Mean**"
   ]
  },
  {
   "cell_type": "code",
   "execution_count": 7,
   "id": "bce00f30",
   "metadata": {
    "execution": {
     "iopub.execute_input": "2024-05-21T21:48:33.787339Z",
     "iopub.status.busy": "2024-05-21T21:48:33.786357Z",
     "iopub.status.idle": "2024-05-21T21:48:33.797392Z",
     "shell.execute_reply": "2024-05-21T21:48:33.796099Z"
    },
    "papermill": {
     "duration": 0.024779,
     "end_time": "2024-05-21T21:48:33.800187",
     "exception": false,
     "start_time": "2024-05-21T21:48:33.775408",
     "status": "completed"
    },
    "tags": []
   },
   "outputs": [
    {
     "name": "stdout",
     "output_type": "stream",
     "text": [
      "3.418\n",
      "5.006\n",
      "0.244\n",
      "1.464\n"
     ]
    }
   ],
   "source": [
    "print(np.mean(iris_setosa['SW']))\n",
    "print(np.mean(iris_setosa['SL']))\n",
    "print(np.mean(iris_setosa['PW']))\n",
    "print(np.mean(iris_setosa['PL']))"
   ]
  },
  {
   "cell_type": "code",
   "execution_count": 8,
   "id": "94d0b0b4",
   "metadata": {
    "execution": {
     "iopub.execute_input": "2024-05-21T21:48:33.816976Z",
     "iopub.status.busy": "2024-05-21T21:48:33.816587Z",
     "iopub.status.idle": "2024-05-21T21:48:34.262710Z",
     "shell.execute_reply": "2024-05-21T21:48:34.261167Z"
    },
    "papermill": {
     "duration": 0.457838,
     "end_time": "2024-05-21T21:48:34.265509",
     "exception": false,
     "start_time": "2024-05-21T21:48:33.807671",
     "status": "completed"
    },
    "tags": []
   },
   "outputs": [
    {
     "data": {
      "text/plain": [
       "(array([ 1.,  1.,  2.,  7., 12., 14.,  7.,  4.,  0.,  2.]),\n",
       " array([1.  , 1.09, 1.18, 1.27, 1.36, 1.45, 1.54, 1.63, 1.72, 1.81, 1.9 ]),\n",
       " <BarContainer object of 10 artists>)"
      ]
     },
     "execution_count": 8,
     "metadata": {},
     "output_type": "execute_result"
    },
    {
     "data": {
      "image/png": "[encoded data removed]",
      "text/plain": [
       "<Figure size 640x480 with 1 Axes>"
      ]
     },
     "metadata": {},
     "output_type": "display_data"
    }
   ],
   "source": [
    "plt.hist(iris_setosa['PL'])"
   ]
  },
  {
   "cell_type": "code",
   "execution_count": 9,
   "id": "34a34e7d",
   "metadata": {
    "execution": {
     "iopub.execute_input": "2024-05-21T21:48:34.282966Z",
     "iopub.status.busy": "2024-05-21T21:48:34.282478Z",
     "iopub.status.idle": "2024-05-21T21:48:34.290990Z",
     "shell.execute_reply": "2024-05-21T21:48:34.289756Z"
    },
    "papermill": {
     "duration": 0.020575,
     "end_time": "2024-05-21T21:48:34.293934",
     "exception": false,
     "start_time": "2024-05-21T21:48:34.273359",
     "status": "completed"
    },
    "tags": []
   },
   "outputs": [
    {
     "data": {
      "text/plain": [
       "2.4156862745098038"
      ]
     },
     "execution_count": 9,
     "metadata": {},
     "output_type": "execute_result"
    }
   ],
   "source": [
    "np.mean(np.append(iris_setosa['PL'], 50))"
   ]
  },
  {
   "cell_type": "markdown",
   "id": "903f2fe9",
   "metadata": {
    "papermill": {
     "duration": 0.008719,
     "end_time": "2024-05-21T21:48:34.315961",
     "exception": false,
     "start_time": "2024-05-21T21:48:34.307242",
     "status": "completed"
    },
    "tags": []
   },
   "source": [
    "just adding one number 50, the mean shifted alot.\n",
    "To solve this issue, we need to keep in mind that data should not contain any outliers\n",
    "to solve this problem we use median"
   ]
  },
  {
   "cell_type": "markdown",
   "id": "4cc10e1d",
   "metadata": {
    "papermill": {
     "duration": 0.011657,
     "end_time": "2024-05-21T21:48:34.339708",
     "exception": false,
     "start_time": "2024-05-21T21:48:34.328051",
     "status": "completed"
    },
    "tags": []
   },
   "source": [
    "**Median**"
   ]
  },
  {
   "cell_type": "markdown",
   "id": "ff2d0d29",
   "metadata": {
    "papermill": {
     "duration": 0.00781,
     "end_time": "2024-05-21T21:48:34.359847",
     "exception": false,
     "start_time": "2024-05-21T21:48:34.352037",
     "status": "completed"
    },
    "tags": []
   },
   "source": [
    "Median does not work on outliers"
   ]
  },
  {
   "cell_type": "code",
   "execution_count": 10,
   "id": "664551fd",
   "metadata": {
    "execution": {
     "iopub.execute_input": "2024-05-21T21:48:34.380717Z",
     "iopub.status.busy": "2024-05-21T21:48:34.380242Z",
     "iopub.status.idle": "2024-05-21T21:48:34.390683Z",
     "shell.execute_reply": "2024-05-21T21:48:34.389423Z"
    },
    "papermill": {
     "duration": 0.025522,
     "end_time": "2024-05-21T21:48:34.393518",
     "exception": false,
     "start_time": "2024-05-21T21:48:34.367996",
     "status": "completed"
    },
    "tags": []
   },
   "outputs": [
    {
     "name": "stdout",
     "output_type": "stream",
     "text": [
      "3.4\n",
      "5.0\n",
      "0.2\n",
      "1.5\n"
     ]
    }
   ],
   "source": [
    "print(np.median(iris_setosa['SW']))\n",
    "print(np.median(iris_setosa['SL']))\n",
    "print(np.median(iris_setosa['PW']))\n",
    "print(np.median(iris_setosa['PL']))"
   ]
  },
  {
   "cell_type": "code",
   "execution_count": 11,
   "id": "363716f6",
   "metadata": {
    "execution": {
     "iopub.execute_input": "2024-05-21T21:48:34.412207Z",
     "iopub.status.busy": "2024-05-21T21:48:34.411765Z",
     "iopub.status.idle": "2024-05-21T21:48:34.420733Z",
     "shell.execute_reply": "2024-05-21T21:48:34.419448Z"
    },
    "papermill": {
     "duration": 0.021451,
     "end_time": "2024-05-21T21:48:34.423433",
     "exception": false,
     "start_time": "2024-05-21T21:48:34.401982",
     "status": "completed"
    },
    "tags": []
   },
   "outputs": [
    {
     "data": {
      "text/plain": [
       "1.5"
      ]
     },
     "execution_count": 11,
     "metadata": {},
     "output_type": "execute_result"
    }
   ],
   "source": [
    "np.median(np.append(iris_setosa['PL'], 50))"
   ]
  },
  {
   "cell_type": "markdown",
   "id": "045e8e60",
   "metadata": {
    "papermill": {
     "duration": 0.008841,
     "end_time": "2024-05-21T21:48:34.440793",
     "exception": false,
     "start_time": "2024-05-21T21:48:34.431952",
     "status": "completed"
    },
    "tags": []
   },
   "source": [
    "* median will be unaffected if more than the half value of data is outliers.\n",
    "* once the outliers in the data points are more than the half value the all the data points then the median will change"
   ]
  },
  {
   "cell_type": "markdown",
   "id": "e04d13b7",
   "metadata": {
    "papermill": {
     "duration": 0.007882,
     "end_time": "2024-05-21T21:48:34.457021",
     "exception": false,
     "start_time": "2024-05-21T21:48:34.449139",
     "status": "completed"
    },
    "tags": []
   },
   "source": [
    "**Mode**"
   ]
  },
  {
   "cell_type": "code",
   "execution_count": 12,
   "id": "e1c613cb",
   "metadata": {
    "execution": {
     "iopub.execute_input": "2024-05-21T21:48:34.475426Z",
     "iopub.status.busy": "2024-05-21T21:48:34.474984Z",
     "iopub.status.idle": "2024-05-21T21:48:34.480104Z",
     "shell.execute_reply": "2024-05-21T21:48:34.478945Z"
    },
    "papermill": {
     "duration": 0.017538,
     "end_time": "2024-05-21T21:48:34.482817",
     "exception": false,
     "start_time": "2024-05-21T21:48:34.465279",
     "status": "completed"
    },
    "tags": []
   },
   "outputs": [],
   "source": [
    "from scipy import stats"
   ]
  },
  {
   "cell_type": "code",
   "execution_count": 13,
   "id": "ab3d7307",
   "metadata": {
    "execution": {
     "iopub.execute_input": "2024-05-21T21:48:34.501345Z",
     "iopub.status.busy": "2024-05-21T21:48:34.500941Z",
     "iopub.status.idle": "2024-05-21T21:48:34.511099Z",
     "shell.execute_reply": "2024-05-21T21:48:34.509898Z"
    },
    "papermill": {
     "duration": 0.022833,
     "end_time": "2024-05-21T21:48:34.514162",
     "exception": false,
     "start_time": "2024-05-21T21:48:34.491329",
     "status": "completed"
    },
    "tags": []
   },
   "outputs": [
    {
     "name": "stdout",
     "output_type": "stream",
     "text": [
      "ModeResult(mode=1.5, count=14)\n",
      "ModeResult(mode=4.5, count=7)\n",
      "ModeResult(mode=5.1, count=7)\n"
     ]
    }
   ],
   "source": [
    "print(stats.mode(iris_setosa['PL']))\n",
    "print(stats.mode(iris_versicolor['PL']))\n",
    "print(stats.mode(iris_virginica['PL']))"
   ]
  }
 ],
 "metadata": {
  "kaggle": {
   "accelerator": "none",
   "dataSources": [
    {
     "datasetId": 2354152,
     "sourceId": 3966491,
     "sourceType": "datasetVersion"
    }
   ],
   "dockerImageVersionId": 30698,
   "isGpuEnabled": false,
   "isInternetEnabled": true,
   "language": "python",
   "sourceType": "notebook"
  },
  "kernelspec": {
   "display_name": "Python 3",
   "language": "python",
   "name": "python3"
  },
  "language_info": {
   "codemirror_mode": {
    "name": "ipython",
    "version": 3
   },
   "file_extension": ".py",
   "mimetype": "text/x-python",
   "name": "python",
   "nbconvert_exporter": "python",
   "pygments_lexer": "ipython3",
   "version": "3.10.13"
  },
  "papermill": {
   "default_parameters": {},
   "duration": 7.956985,
   "end_time": "2024-05-21T21:48:35.145570",
   "environment_variables": {},
   "exception": null,
   "input_path": "__notebook__.ipynb",
   "output_path": "__notebook__.ipynb",
   "parameters": {},
   "start_time": "2024-05-21T21:48:27.188585",
   "version": "2.5.0"
  }
 },
 "nbformat": 4,
 "nbformat_minor": 5
}
