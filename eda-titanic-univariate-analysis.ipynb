{
 "cells": [
  {
   "cell_type": "code",
   "execution_count": 1,
   "id": "4bd17fe5",
   "metadata": {
    "_cell_guid": "b1076dfc-b9ad-4769-8c92-a6c4dae69d19",
    "_uuid": "8f2839f25d086af736a60e9eeb907d3b93b6e0e5",
    "execution": {
     "iopub.execute_input": "2024-05-21T13:17:21.135633Z",
     "iopub.status.busy": "2024-05-21T13:17:21.135190Z",
     "iopub.status.idle": "2024-05-21T13:17:22.333408Z",
     "shell.execute_reply": "2024-05-21T13:17:22.331890Z"
    },
    "papermill": {
     "duration": 1.214634,
     "end_time": "2024-05-21T13:17:22.336378",
     "exception": false,
     "start_time": "2024-05-21T13:17:21.121744",
     "status": "completed"
    },
    "tags": []
   },
   "outputs": [
    {
     "name": "stdout",
     "output_type": "stream",
     "text": [
      "/kaggle/input/titanic/train.csv\n",
      "/kaggle/input/titanic/test.csv\n",
      "/kaggle/input/titanic/gender_submission.csv\n"
     ]
    }
   ],
   "source": [
    "# This Python 3 environment comes with many helpful analytics libraries installed\n",
    "# It is defined by the kaggle/python Docker image: https://github.com/kaggle/docker-python\n",
    "# For example, here's several helpful packages to load\n",
    "\n",
    "import numpy as np # linear algebra\n",
    "import pandas as pd # data processing, CSV file I/O (e.g. pd.read_csv)\n",
    "\n",
    "# Input data files are available in the read-only \"../input/\" directory\n",
    "# For example, running this (by clicking run or pressing Shift+Enter) will list all files under the input directory\n",
    "\n",
    "import os\n",
    "for dirname, _, filenames in os.walk('/kaggle/input'):\n",
    "    for filename in filenames:\n",
    "        print(os.path.join(dirname, filename))\n",
    "\n",
    "# You can write up to 20GB to the current directory (/kaggle/working/) that gets preserved as output when you create a version using \"Save & Run All\" \n",
    "# You can also write temporary files to /kaggle/temp/, but they won't be saved outside of the current session"
   ]
  },
  {
   "cell_type": "code",
   "execution_count": 2,
   "id": "699d6722",
   "metadata": {
    "execution": {
     "iopub.execute_input": "2024-05-21T13:17:22.363167Z",
     "iopub.status.busy": "2024-05-21T13:17:22.361806Z",
     "iopub.status.idle": "2024-05-21T13:17:24.054020Z",
     "shell.execute_reply": "2024-05-21T13:17:24.052419Z"
    },
    "papermill": {
     "duration": 1.708938,
     "end_time": "2024-05-21T13:17:24.056893",
     "exception": false,
     "start_time": "2024-05-21T13:17:22.347955",
     "status": "completed"
    },
    "tags": []
   },
   "outputs": [],
   "source": [
    "import seaborn as sns\n",
    "import matplotlib.pyplot as plt"
   ]
  },
  {
   "cell_type": "code",
   "execution_count": 3,
   "id": "191c4fea",
   "metadata": {
    "execution": {
     "iopub.execute_input": "2024-05-21T13:17:24.081226Z",
     "iopub.status.busy": "2024-05-21T13:17:24.080819Z",
     "iopub.status.idle": "2024-05-21T13:17:24.107345Z",
     "shell.execute_reply": "2024-05-21T13:17:24.105988Z"
    },
    "papermill": {
     "duration": 0.042128,
     "end_time": "2024-05-21T13:17:24.110368",
     "exception": false,
     "start_time": "2024-05-21T13:17:24.068240",
     "status": "completed"
    },
    "tags": []
   },
   "outputs": [],
   "source": [
    "df =pd.read_csv('/kaggle/input/titanic/train.csv')"
   ]
  },
  {
   "cell_type": "code",
   "execution_count": 4,
   "id": "19667fee",
   "metadata": {
    "execution": {
     "iopub.execute_input": "2024-05-21T13:17:24.135053Z",
     "iopub.status.busy": "2024-05-21T13:17:24.134658Z",
     "iopub.status.idle": "2024-05-21T13:17:24.170718Z",
     "shell.execute_reply": "2024-05-21T13:17:24.169530Z"
    },
    "papermill": {
     "duration": 0.051538,
     "end_time": "2024-05-21T13:17:24.173438",
     "exception": false,
     "start_time": "2024-05-21T13:17:24.121900",
     "status": "completed"
    },
    "tags": []
   },
   "outputs": [
    {
     "data": {
      "text/html": [
       "<div>\n",
       "<style scoped>\n",
       "    .dataframe tbody tr th:only-of-type {\n",
       "        vertical-align: middle;\n",
       "    }\n",
       "\n",
       "    .dataframe tbody tr th {\n",
       "        vertical-align: top;\n",
       "    }\n",
       "\n",
       "    .dataframe thead th {\n",
       "        text-align: right;\n",
       "    }\n",
       "</style>\n",
       "<table border=\"1\" class=\"dataframe\">\n",
       "  <thead>\n",
       "    <tr style=\"text-align: right;\">\n",
       "      <th></th>\n",
       "      <th>PassengerId</th>\n",
       "      <th>Survived</th>\n",
       "      <th>Pclass</th>\n",
       "      <th>Name</th>\n",
       "      <th>Sex</th>\n",
       "      <th>Age</th>\n",
       "      <th>SibSp</th>\n",
       "      <th>Parch</th>\n",
       "      <th>Ticket</th>\n",
       "      <th>Fare</th>\n",
       "      <th>Cabin</th>\n",
       "      <th>Embarked</th>\n",
       "    </tr>\n",
       "  </thead>\n",
       "  <tbody>\n",
       "    <tr>\n",
       "      <th>0</th>\n",
       "      <td>1</td>\n",
       "      <td>0</td>\n",
       "      <td>3</td>\n",
       "      <td>Braund, Mr. Owen Harris</td>\n",
       "      <td>male</td>\n",
       "      <td>22.0</td>\n",
       "      <td>1</td>\n",
       "      <td>0</td>\n",
       "      <td>A/5 21171</td>\n",
       "      <td>7.2500</td>\n",
       "      <td>NaN</td>\n",
       "      <td>S</td>\n",
       "    </tr>\n",
       "    <tr>\n",
       "      <th>1</th>\n",
       "      <td>2</td>\n",
       "      <td>1</td>\n",
       "      <td>1</td>\n",
       "      <td>Cumings, Mrs. John Bradley (Florence Briggs Th...</td>\n",
       "      <td>female</td>\n",
       "      <td>38.0</td>\n",
       "      <td>1</td>\n",
       "      <td>0</td>\n",
       "      <td>PC 17599</td>\n",
       "      <td>71.2833</td>\n",
       "      <td>C85</td>\n",
       "      <td>C</td>\n",
       "    </tr>\n",
       "    <tr>\n",
       "      <th>2</th>\n",
       "      <td>3</td>\n",
       "      <td>1</td>\n",
       "      <td>3</td>\n",
       "      <td>Heikkinen, Miss. Laina</td>\n",
       "      <td>female</td>\n",
       "      <td>26.0</td>\n",
       "      <td>0</td>\n",
       "      <td>0</td>\n",
       "      <td>STON/O2. 3101282</td>\n",
       "      <td>7.9250</td>\n",
       "      <td>NaN</td>\n",
       "      <td>S</td>\n",
       "    </tr>\n",
       "    <tr>\n",
       "      <th>3</th>\n",
       "      <td>4</td>\n",
       "      <td>1</td>\n",
       "      <td>1</td>\n",
       "      <td>Futrelle, Mrs. Jacques Heath (Lily May Peel)</td>\n",
       "      <td>female</td>\n",
       "      <td>35.0</td>\n",
       "      <td>1</td>\n",
       "      <td>0</td>\n",
       "      <td>113803</td>\n",
       "      <td>53.1000</td>\n",
       "      <td>C123</td>\n",
       "      <td>S</td>\n",
       "    </tr>\n",
       "    <tr>\n",
       "      <th>4</th>\n",
       "      <td>5</td>\n",
       "      <td>0</td>\n",
       "      <td>3</td>\n",
       "      <td>Allen, Mr. William Henry</td>\n",
       "      <td>male</td>\n",
       "      <td>35.0</td>\n",
       "      <td>0</td>\n",
       "      <td>0</td>\n",
       "      <td>373450</td>\n",
       "      <td>8.0500</td>\n",
       "      <td>NaN</td>\n",
       "      <td>S</td>\n",
       "    </tr>\n",
       "  </tbody>\n",
       "</table>\n",
       "</div>"
      ],
      "text/plain": [
       "   PassengerId  Survived  Pclass  \\\n",
       "0            1         0       3   \n",
       "1            2         1       1   \n",
       "2            3         1       3   \n",
       "3            4         1       1   \n",
       "4            5         0       3   \n",
       "\n",
       "                                                Name     Sex   Age  SibSp  \\\n",
       "0                            Braund, Mr. Owen Harris    male  22.0      1   \n",
       "1  Cumings, Mrs. John Bradley (Florence Briggs Th...  female  38.0      1   \n",
       "2                             Heikkinen, Miss. Laina  female  26.0      0   \n",
       "3       Futrelle, Mrs. Jacques Heath (Lily May Peel)  female  35.0      1   \n",
       "4                           Allen, Mr. William Henry    male  35.0      0   \n",
       "\n",
       "   Parch            Ticket     Fare Cabin Embarked  \n",
       "0      0         A/5 21171   7.2500   NaN        S  \n",
       "1      0          PC 17599  71.2833   C85        C  \n",
       "2      0  STON/O2. 3101282   7.9250   NaN        S  \n",
       "3      0            113803  53.1000  C123        S  \n",
       "4      0            373450   8.0500   NaN        S  "
      ]
     },
     "execution_count": 4,
     "metadata": {},
     "output_type": "execute_result"
    }
   ],
   "source": [
    "df.head()"
   ]
  },
  {
   "cell_type": "markdown",
   "id": "c2240499",
   "metadata": {
    "papermill": {
     "duration": 0.011044,
     "end_time": "2024-05-21T13:17:24.196129",
     "exception": false,
     "start_time": "2024-05-21T13:17:24.185085",
     "status": "completed"
    },
    "tags": []
   },
   "source": [
    "# 1. Categorical Data Analysis"
   ]
  },
  {
   "cell_type": "markdown",
   "id": "5c3bb541",
   "metadata": {
    "papermill": {
     "duration": 0.011165,
     "end_time": "2024-05-21T13:17:24.219132",
     "exception": false,
     "start_time": "2024-05-21T13:17:24.207967",
     "status": "completed"
    },
    "tags": []
   },
   "source": [
    " # a.Count Plot"
   ]
  },
  {
   "cell_type": "code",
   "execution_count": 5,
   "id": "4681cf3a",
   "metadata": {
    "execution": {
     "iopub.execute_input": "2024-05-21T13:17:24.244532Z",
     "iopub.status.busy": "2024-05-21T13:17:24.244099Z",
     "iopub.status.idle": "2024-05-21T13:17:24.260926Z",
     "shell.execute_reply": "2024-05-21T13:17:24.259889Z"
    },
    "papermill": {
     "duration": 0.032402,
     "end_time": "2024-05-21T13:17:24.263902",
     "exception": false,
     "start_time": "2024-05-21T13:17:24.231500",
     "status": "completed"
    },
    "tags": []
   },
   "outputs": [
    {
     "name": "stdout",
     "output_type": "stream",
     "text": [
      "Survived\n",
      "0    549\n",
      "1    342\n",
      "Name: count, dtype: int64\n"
     ]
    }
   ],
   "source": [
    "print(df['Survived'].value_counts())"
   ]
  },
  {
   "cell_type": "code",
   "execution_count": 6,
   "id": "370402c8",
   "metadata": {
    "execution": {
     "iopub.execute_input": "2024-05-21T13:17:24.289772Z",
     "iopub.status.busy": "2024-05-21T13:17:24.289371Z",
     "iopub.status.idle": "2024-05-21T13:17:24.657279Z",
     "shell.execute_reply": "2024-05-21T13:17:24.655849Z"
    },
    "papermill": {
     "duration": 0.383952,
     "end_time": "2024-05-21T13:17:24.660044",
     "exception": false,
     "start_time": "2024-05-21T13:17:24.276092",
     "status": "completed"
    },
    "tags": []
   },
   "outputs": [
    {
     "name": "stdout",
     "output_type": "stream",
     "text": [
      "Axes(0.125,0.11;0.775x0.77)\n"
     ]
    },
    {
     "data": {
      "image/png": "[encoded data removed]",
      "text/plain": [
       "<Figure size 640x480 with 1 Axes>"
      ]
     },
     "metadata": {},
     "output_type": "display_data"
    }
   ],
   "source": [
    "print(df['Survived'].value_counts().plot(kind='bar'))"
   ]
  },
  {
   "cell_type": "code",
   "execution_count": 7,
   "id": "89a4e63a",
   "metadata": {
    "execution": {
     "iopub.execute_input": "2024-05-21T13:17:24.687331Z",
     "iopub.status.busy": "2024-05-21T13:17:24.686739Z",
     "iopub.status.idle": "2024-05-21T13:17:24.694243Z",
     "shell.execute_reply": "2024-05-21T13:17:24.692739Z"
    },
    "papermill": {
     "duration": 0.024276,
     "end_time": "2024-05-21T13:17:24.696645",
     "exception": false,
     "start_time": "2024-05-21T13:17:24.672369",
     "status": "completed"
    },
    "tags": []
   },
   "outputs": [
    {
     "name": "stdout",
     "output_type": "stream",
     "text": [
      "0\n"
     ]
    }
   ],
   "source": [
    "print(df['Survived'].isnull().sum())"
   ]
  },
  {
   "cell_type": "code",
   "execution_count": 8,
   "id": "829affbd",
   "metadata": {
    "execution": {
     "iopub.execute_input": "2024-05-21T13:17:24.722794Z",
     "iopub.status.busy": "2024-05-21T13:17:24.722399Z",
     "iopub.status.idle": "2024-05-21T13:17:24.727605Z",
     "shell.execute_reply": "2024-05-21T13:17:24.726331Z"
    },
    "papermill": {
     "duration": 0.021042,
     "end_time": "2024-05-21T13:17:24.730074",
     "exception": false,
     "start_time": "2024-05-21T13:17:24.709032",
     "status": "completed"
    },
    "tags": []
   },
   "outputs": [],
   "source": [
    "# sns.countplot(x='Survived', data=df)\n",
    "# plt.xlabel('Survived')\n",
    "# plt.ylabel('Count')\n",
    "# plt.title('Count of Survived (0 and 1)')\n",
    "# plt.show()"
   ]
  },
  {
   "cell_type": "code",
   "execution_count": 9,
   "id": "6d671b6e",
   "metadata": {
    "execution": {
     "iopub.execute_input": "2024-05-21T13:17:24.756234Z",
     "iopub.status.busy": "2024-05-21T13:17:24.755835Z",
     "iopub.status.idle": "2024-05-21T13:17:24.989812Z",
     "shell.execute_reply": "2024-05-21T13:17:24.988626Z"
    },
    "papermill": {
     "duration": 0.250357,
     "end_time": "2024-05-21T13:17:24.992697",
     "exception": false,
     "start_time": "2024-05-21T13:17:24.742340",
     "status": "completed"
    },
    "tags": []
   },
   "outputs": [
    {
     "data": {
      "text/plain": [
       "<Axes: xlabel='Survived', ylabel='count'>"
      ]
     },
     "execution_count": 9,
     "metadata": {},
     "output_type": "execute_result"
    },
    {
     "data": {
      "image/png": "[encoded data removed]",
      "text/plain": [
       "<Figure size 640x480 with 1 Axes>"
      ]
     },
     "metadata": {},
     "output_type": "display_data"
    }
   ],
   "source": [
    "sns.countplot(x='Survived', data=df)"
   ]
  },
  {
   "cell_type": "markdown",
   "id": "8fcbcf8d",
   "metadata": {
    "papermill": {
     "duration": 0.012135,
     "end_time": "2024-05-21T13:17:25.017349",
     "exception": false,
     "start_time": "2024-05-21T13:17:25.005214",
     "status": "completed"
    },
    "tags": []
   },
   "source": [
    "**OR**"
   ]
  },
  {
   "cell_type": "code",
   "execution_count": 10,
   "id": "233fbcf8",
   "metadata": {
    "execution": {
     "iopub.execute_input": "2024-05-21T13:17:25.044515Z",
     "iopub.status.busy": "2024-05-21T13:17:25.044090Z",
     "iopub.status.idle": "2024-05-21T13:17:25.386838Z",
     "shell.execute_reply": "2024-05-21T13:17:25.385478Z"
    },
    "papermill": {
     "duration": 0.359679,
     "end_time": "2024-05-21T13:17:25.389622",
     "exception": false,
     "start_time": "2024-05-21T13:17:25.029943",
     "status": "completed"
    },
    "tags": []
   },
   "outputs": [
    {
     "data": {
      "text/plain": [
       "<seaborn.axisgrid.FacetGrid at 0x7908b2184c10>"
      ]
     },
     "execution_count": 10,
     "metadata": {},
     "output_type": "execute_result"
    },
    {
     "data": {
      "image/png": "[encoded data removed]",
      "text/plain": [
       "<Figure size 500x500 with 1 Axes>"
      ]
     },
     "metadata": {},
     "output_type": "display_data"
    }
   ],
   "source": [
    "sns.catplot(x='Survived', kind='count', data=df)"
   ]
  },
  {
   "cell_type": "code",
   "execution_count": 11,
   "id": "aaa31710",
   "metadata": {
    "execution": {
     "iopub.execute_input": "2024-05-21T13:17:25.418723Z",
     "iopub.status.busy": "2024-05-21T13:17:25.417890Z",
     "iopub.status.idle": "2024-05-21T13:17:25.690106Z",
     "shell.execute_reply": "2024-05-21T13:17:25.688884Z"
    },
    "papermill": {
     "duration": 0.289987,
     "end_time": "2024-05-21T13:17:25.693203",
     "exception": false,
     "start_time": "2024-05-21T13:17:25.403216",
     "status": "completed"
    },
    "tags": []
   },
   "outputs": [
    {
     "data": {
      "text/plain": [
       "<Axes: xlabel='Pclass', ylabel='count'>"
      ]
     },
     "execution_count": 11,
     "metadata": {},
     "output_type": "execute_result"
    },
    {
     "data": {
      "image/png": "[encoded data removed]",
      "text/plain": [
       "<Figure size 640x480 with 1 Axes>"
      ]
     },
     "metadata": {},
     "output_type": "display_data"
    }
   ],
   "source": [
    "sns.countplot(x='Pclass', data=df)"
   ]
  },
  {
   "cell_type": "code",
   "execution_count": 12,
   "id": "77cef959",
   "metadata": {
    "execution": {
     "iopub.execute_input": "2024-05-21T13:17:25.729789Z",
     "iopub.status.busy": "2024-05-21T13:17:25.729351Z",
     "iopub.status.idle": "2024-05-21T13:17:25.959627Z",
     "shell.execute_reply": "2024-05-21T13:17:25.958140Z"
    },
    "papermill": {
     "duration": 0.250102,
     "end_time": "2024-05-21T13:17:25.963118",
     "exception": false,
     "start_time": "2024-05-21T13:17:25.713016",
     "status": "completed"
    },
    "tags": []
   },
   "outputs": [
    {
     "data": {
      "text/plain": [
       "<Axes: xlabel='Sex', ylabel='count'>"
      ]
     },
     "execution_count": 12,
     "metadata": {},
     "output_type": "execute_result"
    },
    {
     "data": {
      "image/png": "[encoded data removed]",
      "text/plain": [
       "<Figure size 640x480 with 1 Axes>"
      ]
     },
     "metadata": {},
     "output_type": "display_data"
    }
   ],
   "source": [
    "sns.countplot(x='Sex', data=df)"
   ]
  },
  {
   "cell_type": "code",
   "execution_count": 13,
   "id": "f107b1e2",
   "metadata": {
    "execution": {
     "iopub.execute_input": "2024-05-21T13:17:25.996849Z",
     "iopub.status.busy": "2024-05-21T13:17:25.996411Z",
     "iopub.status.idle": "2024-05-21T13:17:26.258443Z",
     "shell.execute_reply": "2024-05-21T13:17:26.257128Z"
    },
    "papermill": {
     "duration": 0.280704,
     "end_time": "2024-05-21T13:17:26.260979",
     "exception": false,
     "start_time": "2024-05-21T13:17:25.980275",
     "status": "completed"
    },
    "tags": []
   },
   "outputs": [
    {
     "data": {
      "text/plain": [
       "<Axes: xlabel='Embarked', ylabel='count'>"
      ]
     },
     "execution_count": 13,
     "metadata": {},
     "output_type": "execute_result"
    },
    {
     "data": {
      "image/png": "[encoded data removed]",
      "text/plain": [
       "<Figure size 640x480 with 1 Axes>"
      ]
     },
     "metadata": {},
     "output_type": "display_data"
    }
   ],
   "source": [
    "sns.countplot(x='Embarked', data=df)"
   ]
  },
  {
   "cell_type": "markdown",
   "id": "d5f04f4f",
   "metadata": {
    "papermill": {
     "duration": 0.0154,
     "end_time": "2024-05-21T13:17:26.291404",
     "exception": false,
     "start_time": "2024-05-21T13:17:26.276004",
     "status": "completed"
    },
    "tags": []
   },
   "source": [
    "When we need the output in terms ofpercentage then we use piechart"
   ]
  },
  {
   "cell_type": "markdown",
   "id": "dede88e1",
   "metadata": {
    "papermill": {
     "duration": 0.01424,
     "end_time": "2024-05-21T13:17:26.320622",
     "exception": false,
     "start_time": "2024-05-21T13:17:26.306382",
     "status": "completed"
    },
    "tags": []
   },
   "source": [
    " # b. Piechart"
   ]
  },
  {
   "cell_type": "code",
   "execution_count": 14,
   "id": "bf66d3fd",
   "metadata": {
    "execution": {
     "iopub.execute_input": "2024-05-21T13:17:26.353277Z",
     "iopub.status.busy": "2024-05-21T13:17:26.352874Z",
     "iopub.status.idle": "2024-05-21T13:17:26.538755Z",
     "shell.execute_reply": "2024-05-21T13:17:26.536589Z"
    },
    "papermill": {
     "duration": 0.206775,
     "end_time": "2024-05-21T13:17:26.542562",
     "exception": false,
     "start_time": "2024-05-21T13:17:26.335787",
     "status": "completed"
    },
    "tags": []
   },
   "outputs": [
    {
     "data": {
      "text/plain": [
       "<Axes: ylabel='count'>"
      ]
     },
     "execution_count": 14,
     "metadata": {},
     "output_type": "execute_result"
    },
    {
     "data": {
      "image/png": "[encoded data removed]",
      "text/plain": [
       "<Figure size 640x480 with 1 Axes>"
      ]
     },
     "metadata": {},
     "output_type": "display_data"
    }
   ],
   "source": [
    "df['Survived'].value_counts().plot(kind='pie', autopct='%.2f')"
   ]
  },
  {
   "cell_type": "code",
   "execution_count": 15,
   "id": "4f7541c7",
   "metadata": {
    "execution": {
     "iopub.execute_input": "2024-05-21T13:17:26.620097Z",
     "iopub.status.busy": "2024-05-21T13:17:26.619496Z",
     "iopub.status.idle": "2024-05-21T13:17:26.789440Z",
     "shell.execute_reply": "2024-05-21T13:17:26.788085Z"
    },
    "papermill": {
     "duration": 0.210316,
     "end_time": "2024-05-21T13:17:26.794773",
     "exception": false,
     "start_time": "2024-05-21T13:17:26.584457",
     "status": "completed"
    },
    "tags": []
   },
   "outputs": [
    {
     "data": {
      "text/plain": [
       "<Axes: ylabel='count'>"
      ]
     },
     "execution_count": 15,
     "metadata": {},
     "output_type": "execute_result"
    },
    {
     "data": {
      "image/png": "[encoded data removed]",
      "text/plain": [
       "<Figure size 640x480 with 1 Axes>"
      ]
     },
     "metadata": {},
     "output_type": "display_data"
    }
   ],
   "source": [
    "df['Pclass'].value_counts().plot(kind='pie', autopct='%.2f')"
   ]
  },
  {
   "cell_type": "code",
   "execution_count": 16,
   "id": "bfe2c490",
   "metadata": {
    "execution": {
     "iopub.execute_input": "2024-05-21T13:17:26.843641Z",
     "iopub.status.busy": "2024-05-21T13:17:26.842656Z",
     "iopub.status.idle": "2024-05-21T13:17:27.002609Z",
     "shell.execute_reply": "2024-05-21T13:17:27.000906Z"
    },
    "papermill": {
     "duration": 0.189905,
     "end_time": "2024-05-21T13:17:27.007776",
     "exception": false,
     "start_time": "2024-05-21T13:17:26.817871",
     "status": "completed"
    },
    "tags": []
   },
   "outputs": [
    {
     "data": {
      "text/plain": [
       "<Axes: ylabel='count'>"
      ]
     },
     "execution_count": 16,
     "metadata": {},
     "output_type": "execute_result"
    },
    {
     "data": {
      "image/png": "[encoded data removed]",
      "text/plain": [
       "<Figure size 640x480 with 1 Axes>"
      ]
     },
     "metadata": {},
     "output_type": "display_data"
    }
   ],
   "source": [
    "df['Sex'].value_counts().plot(kind='pie', autopct='%.2f')"
   ]
  },
  {
   "cell_type": "markdown",
   "id": "d841f25b",
   "metadata": {
    "papermill": {
     "duration": 0.033045,
     "end_time": "2024-05-21T13:17:27.075105",
     "exception": false,
     "start_time": "2024-05-21T13:17:27.042060",
     "status": "completed"
    },
    "tags": []
   },
   "source": [
    "# 2. Numerical Data"
   ]
  },
  {
   "cell_type": "markdown",
   "id": "ac5d9902",
   "metadata": {
    "papermill": {
     "duration": 0.015657,
     "end_time": "2024-05-21T13:17:27.108627",
     "exception": false,
     "start_time": "2024-05-21T13:17:27.092970",
     "status": "completed"
    },
    "tags": []
   },
   "source": [
    " # a. Histogram"
   ]
  },
  {
   "cell_type": "code",
   "execution_count": 17,
   "id": "baba9084",
   "metadata": {
    "execution": {
     "iopub.execute_input": "2024-05-21T13:17:27.142191Z",
     "iopub.status.busy": "2024-05-21T13:17:27.141790Z",
     "iopub.status.idle": "2024-05-21T13:17:27.474877Z",
     "shell.execute_reply": "2024-05-21T13:17:27.473556Z"
    },
    "papermill": {
     "duration": 0.352788,
     "end_time": "2024-05-21T13:17:27.477464",
     "exception": false,
     "start_time": "2024-05-21T13:17:27.124676",
     "status": "completed"
    },
    "tags": []
   },
   "outputs": [
    {
     "data": {
      "text/plain": [
       "(array([ 54.,  46., 177., 169., 118.,  70.,  45.,  24.,   9.,   2.]),\n",
       " array([ 0.42 ,  8.378, 16.336, 24.294, 32.252, 40.21 , 48.168, 56.126,\n",
       "        64.084, 72.042, 80.   ]),\n",
       " <BarContainer object of 10 artists>)"
      ]
     },
     "execution_count": 17,
     "metadata": {},
     "output_type": "execute_result"
    },
    {
     "data": {
      "image/png": "[encoded data removed]",
      "text/plain": [
       "<Figure size 640x480 with 1 Axes>"
      ]
     },
     "metadata": {},
     "output_type": "display_data"
    }
   ],
   "source": [
    "plt.hist(df['Age'])"
   ]
  },
  {
   "cell_type": "code",
   "execution_count": 18,
   "id": "6478f37a",
   "metadata": {
    "execution": {
     "iopub.execute_input": "2024-05-21T13:17:27.512394Z",
     "iopub.status.busy": "2024-05-21T13:17:27.511953Z",
     "iopub.status.idle": "2024-05-21T13:17:27.824229Z",
     "shell.execute_reply": "2024-05-21T13:17:27.822905Z"
    },
    "papermill": {
     "duration": 0.332813,
     "end_time": "2024-05-21T13:17:27.826943",
     "exception": false,
     "start_time": "2024-05-21T13:17:27.494130",
     "status": "completed"
    },
    "tags": []
   },
   "outputs": [
    {
     "data": {
      "text/plain": [
       "(array([100., 346., 188.,  69.,  11.]),\n",
       " array([ 0.42 , 16.336, 32.252, 48.168, 64.084, 80.   ]),\n",
       " <BarContainer object of 5 artists>)"
      ]
     },
     "execution_count": 18,
     "metadata": {},
     "output_type": "execute_result"
    },
    {
     "data": {
      "image/png": "[encoded data removed]",
      "text/plain": [
       "<Figure size 640x480 with 1 Axes>"
      ]
     },
     "metadata": {},
     "output_type": "display_data"
    }
   ],
   "source": [
    "plt.hist(df['Age'], bins = 5)"
   ]
  },
  {
   "cell_type": "code",
   "execution_count": 19,
   "id": "7e4dec38",
   "metadata": {
    "execution": {
     "iopub.execute_input": "2024-05-21T13:17:27.863602Z",
     "iopub.status.busy": "2024-05-21T13:17:27.863186Z",
     "iopub.status.idle": "2024-05-21T13:17:28.244200Z",
     "shell.execute_reply": "2024-05-21T13:17:28.242772Z"
    },
    "papermill": {
     "duration": 0.402802,
     "end_time": "2024-05-21T13:17:28.246918",
     "exception": false,
     "start_time": "2024-05-21T13:17:27.844116",
     "status": "completed"
    },
    "tags": []
   },
   "outputs": [
    {
     "data": {
      "text/plain": [
       "(array([24.,  6., 14.,  3.,  7.,  8.,  6.,  3.,  7., 22., 13., 51., 40.,\n",
       "        27., 46., 24., 36., 47., 27., 35., 17., 34., 29., 11., 27.,  8.,\n",
       "        18.,  9., 17., 18.,  6., 17.,  6.,  9.,  7.,  2.,  7.,  4.,  7.,\n",
       "         4.,  3.,  1.,  0.,  2.,  3.,  0.,  1.,  0.,  0.,  1.]),\n",
       " array([ 0.42  ,  2.0116,  3.6032,  5.1948,  6.7864,  8.378 ,  9.9696,\n",
       "        11.5612, 13.1528, 14.7444, 16.336 , 17.9276, 19.5192, 21.1108,\n",
       "        22.7024, 24.294 , 25.8856, 27.4772, 29.0688, 30.6604, 32.252 ,\n",
       "        33.8436, 35.4352, 37.0268, 38.6184, 40.21  , 41.8016, 43.3932,\n",
       "        44.9848, 46.5764, 48.168 , 49.7596, 51.3512, 52.9428, 54.5344,\n",
       "        56.126 , 57.7176, 59.3092, 60.9008, 62.4924, 64.084 , 65.6756,\n",
       "        67.2672, 68.8588, 70.4504, 72.042 , 73.6336, 75.2252, 76.8168,\n",
       "        78.4084, 80.    ]),\n",
       " <BarContainer object of 50 artists>)"
      ]
     },
     "execution_count": 19,
     "metadata": {},
     "output_type": "execute_result"
    },
    {
     "data": {
      "image/png": "[encoded data removed]",
      "text/plain": [
       "<Figure size 640x480 with 1 Axes>"
      ]
     },
     "metadata": {},
     "output_type": "display_data"
    }
   ],
   "source": [
    "plt.hist(df['Age'], bins = 50)"
   ]
  },
  {
   "cell_type": "markdown",
   "id": "99ea8a79",
   "metadata": {
    "papermill": {
     "duration": 0.017864,
     "end_time": "2024-05-21T13:17:28.283027",
     "exception": false,
     "start_time": "2024-05-21T13:17:28.265163",
     "status": "completed"
    },
    "tags": []
   },
   "source": [
    " # b. Distplot"
   ]
  },
  {
   "cell_type": "code",
   "execution_count": 20,
   "id": "8965d9ef",
   "metadata": {
    "execution": {
     "iopub.execute_input": "2024-05-21T13:17:28.320240Z",
     "iopub.status.busy": "2024-05-21T13:17:28.319810Z",
     "iopub.status.idle": "2024-05-21T13:17:28.688139Z",
     "shell.execute_reply": "2024-05-21T13:17:28.687105Z"
    },
    "papermill": {
     "duration": 0.389673,
     "end_time": "2024-05-21T13:17:28.690752",
     "exception": false,
     "start_time": "2024-05-21T13:17:28.301079",
     "status": "completed"
    },
    "tags": []
   },
   "outputs": [
    {
     "name": "stderr",
     "output_type": "stream",
     "text": [
      "/tmp/ipykernel_18/3255828239.py:1: UserWarning: \n",
      "\n",
      "`distplot` is a deprecated function and will be removed in seaborn v0.14.0.\n",
      "\n",
      "Please adapt your code to use either `displot` (a figure-level function with\n",
      "similar flexibility) or `histplot` (an axes-level function for histograms).\n",
      "\n",
      "For a guide to updating your code to use the new functions, please see\n",
      "https://gist.github.com/mwaskom/de44147ed2974457ad6372750bbe5751\n",
      "\n",
      "  sns.distplot(df['Age'])\n",
      "/opt/conda/lib/python3.10/site-packages/seaborn/_oldcore.py:1119: FutureWarning: use_inf_as_na option is deprecated and will be removed in a future version. Convert inf values to NaN before operating instead.\n",
      "  with pd.option_context('mode.use_inf_as_na', True):\n"
     ]
    },
    {
     "data": {
      "text/plain": [
       "<Axes: xlabel='Age', ylabel='Density'>"
      ]
     },
     "execution_count": 20,
     "metadata": {},
     "output_type": "execute_result"
    },
    {
     "data": {
      "image/png": "[encoded data removed]",
      "text/plain": [
       "<Figure size 640x480 with 1 Axes>"
      ]
     },
     "metadata": {},
     "output_type": "display_data"
    }
   ],
   "source": [
    "sns.distplot(df['Age'])"
   ]
  },
  {
   "cell_type": "markdown",
   "id": "c18c88e9",
   "metadata": {
    "papermill": {
     "duration": 0.017787,
     "end_time": "2024-05-21T13:17:28.727410",
     "exception": false,
     "start_time": "2024-05-21T13:17:28.709623",
     "status": "completed"
    },
    "tags": []
   },
   "source": [
    " # c. Boxplot"
   ]
  },
  {
   "cell_type": "markdown",
   "id": "bc2fe51e",
   "metadata": {
    "papermill": {
     "duration": 0.017997,
     "end_time": "2024-05-21T13:17:28.763931",
     "exception": false,
     "start_time": "2024-05-21T13:17:28.745934",
     "status": "completed"
    },
    "tags": []
   },
   "source": [
    "1. Identify the outliers and eliminate the outliers.\n",
    "2. box plot helps to identify that how much data is noisy and how much data is outliers"
   ]
  },
  {
   "cell_type": "code",
   "execution_count": 21,
   "id": "ecf9fdb9",
   "metadata": {
    "execution": {
     "iopub.execute_input": "2024-05-21T13:17:28.802151Z",
     "iopub.status.busy": "2024-05-21T13:17:28.801759Z",
     "iopub.status.idle": "2024-05-21T13:17:29.031166Z",
     "shell.execute_reply": "2024-05-21T13:17:29.029835Z"
    },
    "papermill": {
     "duration": 0.251806,
     "end_time": "2024-05-21T13:17:29.034081",
     "exception": false,
     "start_time": "2024-05-21T13:17:28.782275",
     "status": "completed"
    },
    "tags": []
   },
   "outputs": [
    {
     "data": {
      "text/plain": [
       "<Axes: >"
      ]
     },
     "execution_count": 21,
     "metadata": {},
     "output_type": "execute_result"
    },
    {
     "data": {
      "image/png": "[encoded data removed]",
      "text/plain": [
       "<Figure size 640x480 with 1 Axes>"
      ]
     },
     "metadata": {},
     "output_type": "display_data"
    }
   ],
   "source": [
    "sns.boxplot(df['Fare'])"
   ]
  },
  {
   "cell_type": "code",
   "execution_count": 22,
   "id": "d2124940",
   "metadata": {
    "execution": {
     "iopub.execute_input": "2024-05-21T13:17:29.074484Z",
     "iopub.status.busy": "2024-05-21T13:17:29.073581Z",
     "iopub.status.idle": "2024-05-21T13:17:29.317033Z",
     "shell.execute_reply": "2024-05-21T13:17:29.315783Z"
    },
    "papermill": {
     "duration": 0.267097,
     "end_time": "2024-05-21T13:17:29.319914",
     "exception": false,
     "start_time": "2024-05-21T13:17:29.052817",
     "status": "completed"
    },
    "tags": []
   },
   "outputs": [
    {
     "data": {
      "text/plain": [
       "<Axes: >"
      ]
     },
     "execution_count": 22,
     "metadata": {},
     "output_type": "execute_result"
    },
    {
     "data": {
      "image/png": "[encoded data removed]",
      "text/plain": [
       "<Figure size 640x480 with 1 Axes>"
      ]
     },
     "metadata": {},
     "output_type": "display_data"
    }
   ],
   "source": [
    "sns.boxplot(df['Age'])"
   ]
  },
  {
   "cell_type": "code",
   "execution_count": 23,
   "id": "cea1b61a",
   "metadata": {
    "execution": {
     "iopub.execute_input": "2024-05-21T13:17:29.421295Z",
     "iopub.status.busy": "2024-05-21T13:17:29.420304Z",
     "iopub.status.idle": "2024-05-21T13:17:29.428237Z",
     "shell.execute_reply": "2024-05-21T13:17:29.427087Z"
    },
    "papermill": {
     "duration": 0.030697,
     "end_time": "2024-05-21T13:17:29.430753",
     "exception": false,
     "start_time": "2024-05-21T13:17:29.400056",
     "status": "completed"
    },
    "tags": []
   },
   "outputs": [
    {
     "data": {
      "text/plain": [
       "0.42"
      ]
     },
     "execution_count": 23,
     "metadata": {},
     "output_type": "execute_result"
    }
   ],
   "source": [
    "df['Age'].min()"
   ]
  },
  {
   "cell_type": "code",
   "execution_count": 24,
   "id": "4312639d",
   "metadata": {
    "execution": {
     "iopub.execute_input": "2024-05-21T13:17:29.471504Z",
     "iopub.status.busy": "2024-05-21T13:17:29.470713Z",
     "iopub.status.idle": "2024-05-21T13:17:29.478282Z",
     "shell.execute_reply": "2024-05-21T13:17:29.477163Z"
    },
    "papermill": {
     "duration": 0.030805,
     "end_time": "2024-05-21T13:17:29.480818",
     "exception": false,
     "start_time": "2024-05-21T13:17:29.450013",
     "status": "completed"
    },
    "tags": []
   },
   "outputs": [
    {
     "data": {
      "text/plain": [
       "80.0"
      ]
     },
     "execution_count": 24,
     "metadata": {},
     "output_type": "execute_result"
    }
   ],
   "source": [
    "df['Age'].max()"
   ]
  },
  {
   "cell_type": "code",
   "execution_count": 25,
   "id": "f5b02385",
   "metadata": {
    "execution": {
     "iopub.execute_input": "2024-05-21T13:17:29.522020Z",
     "iopub.status.busy": "2024-05-21T13:17:29.521181Z",
     "iopub.status.idle": "2024-05-21T13:17:29.529723Z",
     "shell.execute_reply": "2024-05-21T13:17:29.528381Z"
    },
    "papermill": {
     "duration": 0.032245,
     "end_time": "2024-05-21T13:17:29.532405",
     "exception": false,
     "start_time": "2024-05-21T13:17:29.500160",
     "status": "completed"
    },
    "tags": []
   },
   "outputs": [
    {
     "data": {
      "text/plain": [
       "29.69911764705882"
      ]
     },
     "execution_count": 25,
     "metadata": {},
     "output_type": "execute_result"
    }
   ],
   "source": [
    "df['Age'].mean()"
   ]
  },
  {
   "cell_type": "markdown",
   "id": "3f45b8ca",
   "metadata": {
    "papermill": {
     "duration": 0.020336,
     "end_time": "2024-05-21T13:17:29.572861",
     "exception": false,
     "start_time": "2024-05-21T13:17:29.552525",
     "status": "completed"
    },
    "tags": []
   },
   "source": [
    "# **Skewness**: "
   ]
  },
  {
   "cell_type": "code",
   "execution_count": 26,
   "id": "a6accda4",
   "metadata": {
    "execution": {
     "iopub.execute_input": "2024-05-21T13:17:29.615647Z",
     "iopub.status.busy": "2024-05-21T13:17:29.614803Z",
     "iopub.status.idle": "2024-05-21T13:17:29.623143Z",
     "shell.execute_reply": "2024-05-21T13:17:29.621966Z"
    },
    "papermill": {
     "duration": 0.033398,
     "end_time": "2024-05-21T13:17:29.625985",
     "exception": false,
     "start_time": "2024-05-21T13:17:29.592587",
     "status": "completed"
    },
    "tags": []
   },
   "outputs": [
    {
     "data": {
      "text/plain": [
       "0.38910778230082704"
      ]
     },
     "execution_count": 26,
     "metadata": {},
     "output_type": "execute_result"
    }
   ],
   "source": [
    "df['Age'].skew()"
   ]
  },
  {
   "cell_type": "markdown",
   "id": "2c9a67b3",
   "metadata": {
    "papermill": {
     "duration": 0.021135,
     "end_time": "2024-05-21T13:17:29.667199",
     "exception": false,
     "start_time": "2024-05-21T13:17:29.646064",
     "status": "completed"
    },
    "tags": []
   },
   "source": [
    "if value: \n",
    "1. 0 : Perfectly skewed\n",
    "2. + : Positively skewed ( Right side)\n",
    "3. - : Negatively skewed (Left Side)"
   ]
  }
 ],
 "metadata": {
  "kaggle": {
   "accelerator": "none",
   "dataSources": [
    {
     "databundleVersionId": 26502,
     "sourceId": 3136,
     "sourceType": "competition"
    }
   ],
   "dockerImageVersionId": 30698,
   "isGpuEnabled": false,
   "isInternetEnabled": true,
   "language": "python",
   "sourceType": "notebook"
  },
  "kernelspec": {
   "display_name": "Python 3",
   "language": "python",
   "name": "python3"
  },
  "language_info": {
   "codemirror_mode": {
    "name": "ipython",
    "version": 3
   },
   "file_extension": ".py",
   "mimetype": "text/x-python",
   "name": "python",
   "nbconvert_exporter": "python",
   "pygments_lexer": "ipython3",
   "version": "3.10.13"
  },
  "papermill": {
   "default_parameters": {},
   "duration": 12.775481,
   "end_time": "2024-05-21T13:17:30.411017",
   "environment_variables": {},
   "exception": null,
   "input_path": "__notebook__.ipynb",
   "output_path": "__notebook__.ipynb",
   "parameters": {},
   "start_time": "2024-05-21T13:17:17.635536",
   "version": "2.5.0"
  }
 },
 "nbformat": 4,
 "nbformat_minor": 5
}
