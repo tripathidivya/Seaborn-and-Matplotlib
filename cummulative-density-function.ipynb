{
 "cells": [
  {
   "cell_type": "code",
   "execution_count": 1,
   "id": "0e92e8b9",
   "metadata": {
    "_cell_guid": "b1076dfc-b9ad-4769-8c92-a6c4dae69d19",
    "_uuid": "8f2839f25d086af736a60e9eeb907d3b93b6e0e5",
    "execution": {
     "iopub.execute_input": "2024-05-23T13:37:31.672394Z",
     "iopub.status.busy": "2024-05-23T13:37:31.671993Z",
     "iopub.status.idle": "2024-05-23T13:37:32.674253Z",
     "shell.execute_reply": "2024-05-23T13:37:32.672843Z"
    },
    "papermill": {
     "duration": 1.010169,
     "end_time": "2024-05-23T13:37:32.676573",
     "exception": false,
     "start_time": "2024-05-23T13:37:31.666404",
     "status": "completed"
    },
    "tags": []
   },
   "outputs": [
    {
     "name": "stdout",
     "output_type": "stream",
     "text": [
      "/kaggle/input/iris-dataset/iris.csv\n"
     ]
    }
   ],
   "source": [
    "# This Python 3 environment comes with many helpful analytics libraries installed\n",
    "# It is defined by the kaggle/python Docker image: https://github.com/kaggle/docker-python\n",
    "# For example, here's several helpful packages to load\n",
    "\n",
    "import numpy as np # linear algebra\n",
    "import pandas as pd # data processing, CSV file I/O (e.g. pd.read_csv)\n",
    "\n",
    "# Input data files are available in the read-only \"../input/\" directory\n",
    "# For example, running this (by clicking run or pressing Shift+Enter) will list all files under the input directory\n",
    "\n",
    "import os\n",
    "for dirname, _, filenames in os.walk('/kaggle/input'):\n",
    "    for filename in filenames:\n",
    "        print(os.path.join(dirname, filename))\n",
    "\n",
    "# You can write up to 20GB to the current directory (/kaggle/working/) that gets preserved as output when you create a version using \"Save & Run All\" \n",
    "# You can also write temporary files to /kaggle/temp/, but they won't be saved outside of the current session"
   ]
  },
  {
   "cell_type": "code",
   "execution_count": 2,
   "id": "34aa8a7e",
   "metadata": {
    "execution": {
     "iopub.execute_input": "2024-05-23T13:37:32.685768Z",
     "iopub.status.busy": "2024-05-23T13:37:32.685225Z",
     "iopub.status.idle": "2024-05-23T13:37:34.290664Z",
     "shell.execute_reply": "2024-05-23T13:37:34.289350Z"
    },
    "papermill": {
     "duration": 1.613776,
     "end_time": "2024-05-23T13:37:34.294248",
     "exception": false,
     "start_time": "2024-05-23T13:37:32.680472",
     "status": "completed"
    },
    "tags": []
   },
   "outputs": [],
   "source": [
    "import pandas as pd\n",
    "import numpy as np\n",
    "import seaborn as sns\n",
    "import matplotlib.pyplot as plt"
   ]
  },
  {
   "cell_type": "code",
   "execution_count": 3,
   "id": "37302cb2",
   "metadata": {
    "execution": {
     "iopub.execute_input": "2024-05-23T13:37:34.303224Z",
     "iopub.status.busy": "2024-05-23T13:37:34.302812Z",
     "iopub.status.idle": "2024-05-23T13:37:34.342952Z",
     "shell.execute_reply": "2024-05-23T13:37:34.341711Z"
    },
    "papermill": {
     "duration": 0.047663,
     "end_time": "2024-05-23T13:37:34.345579",
     "exception": false,
     "start_time": "2024-05-23T13:37:34.297916",
     "status": "completed"
    },
    "tags": []
   },
   "outputs": [
    {
     "data": {
      "text/html": [
       "<div>\n",
       "<style scoped>\n",
       "    .dataframe tbody tr th:only-of-type {\n",
       "        vertical-align: middle;\n",
       "    }\n",
       "\n",
       "    .dataframe tbody tr th {\n",
       "        vertical-align: top;\n",
       "    }\n",
       "\n",
       "    .dataframe thead th {\n",
       "        text-align: right;\n",
       "    }\n",
       "</style>\n",
       "<table border=\"1\" class=\"dataframe\">\n",
       "  <thead>\n",
       "    <tr style=\"text-align: right;\">\n",
       "      <th></th>\n",
       "      <th>sepal_length</th>\n",
       "      <th>sepal_width</th>\n",
       "      <th>petal_length</th>\n",
       "      <th>petal_width</th>\n",
       "      <th>species</th>\n",
       "    </tr>\n",
       "  </thead>\n",
       "  <tbody>\n",
       "    <tr>\n",
       "      <th>0</th>\n",
       "      <td>5.1</td>\n",
       "      <td>3.5</td>\n",
       "      <td>1.4</td>\n",
       "      <td>0.2</td>\n",
       "      <td>setosa</td>\n",
       "    </tr>\n",
       "    <tr>\n",
       "      <th>1</th>\n",
       "      <td>4.9</td>\n",
       "      <td>3.0</td>\n",
       "      <td>1.4</td>\n",
       "      <td>0.2</td>\n",
       "      <td>setosa</td>\n",
       "    </tr>\n",
       "    <tr>\n",
       "      <th>2</th>\n",
       "      <td>4.7</td>\n",
       "      <td>3.2</td>\n",
       "      <td>1.3</td>\n",
       "      <td>0.2</td>\n",
       "      <td>setosa</td>\n",
       "    </tr>\n",
       "    <tr>\n",
       "      <th>3</th>\n",
       "      <td>4.6</td>\n",
       "      <td>3.1</td>\n",
       "      <td>1.5</td>\n",
       "      <td>0.2</td>\n",
       "      <td>setosa</td>\n",
       "    </tr>\n",
       "    <tr>\n",
       "      <th>4</th>\n",
       "      <td>5.0</td>\n",
       "      <td>3.6</td>\n",
       "      <td>1.4</td>\n",
       "      <td>0.2</td>\n",
       "      <td>setosa</td>\n",
       "    </tr>\n",
       "  </tbody>\n",
       "</table>\n",
       "</div>"
      ],
      "text/plain": [
       "   sepal_length  sepal_width  petal_length  petal_width species\n",
       "0           5.1          3.5           1.4          0.2  setosa\n",
       "1           4.9          3.0           1.4          0.2  setosa\n",
       "2           4.7          3.2           1.3          0.2  setosa\n",
       "3           4.6          3.1           1.5          0.2  setosa\n",
       "4           5.0          3.6           1.4          0.2  setosa"
      ]
     },
     "execution_count": 3,
     "metadata": {},
     "output_type": "execute_result"
    }
   ],
   "source": [
    "data = pd.read_csv('/kaggle/input/iris-dataset/iris.csv')\n",
    "data.head()"
   ]
  },
  {
   "cell_type": "code",
   "execution_count": 4,
   "id": "ee6b3138",
   "metadata": {
    "execution": {
     "iopub.execute_input": "2024-05-23T13:37:34.354771Z",
     "iopub.status.busy": "2024-05-23T13:37:34.354350Z",
     "iopub.status.idle": "2024-05-23T13:37:34.360332Z",
     "shell.execute_reply": "2024-05-23T13:37:34.359195Z"
    },
    "papermill": {
     "duration": 0.01354,
     "end_time": "2024-05-23T13:37:34.362909",
     "exception": false,
     "start_time": "2024-05-23T13:37:34.349369",
     "status": "completed"
    },
    "tags": []
   },
   "outputs": [],
   "source": [
    "data.rename(columns={'sepal_length': 'SL', 'sepal_width': 'SW', 'petal_length': 'PL', 'petal_width': 'PW'}, inplace = True)"
   ]
  },
  {
   "cell_type": "code",
   "execution_count": 5,
   "id": "c7f0990e",
   "metadata": {
    "execution": {
     "iopub.execute_input": "2024-05-23T13:37:34.372139Z",
     "iopub.status.busy": "2024-05-23T13:37:34.371671Z",
     "iopub.status.idle": "2024-05-23T13:37:34.384505Z",
     "shell.execute_reply": "2024-05-23T13:37:34.383374Z"
    },
    "papermill": {
     "duration": 0.020448,
     "end_time": "2024-05-23T13:37:34.387052",
     "exception": false,
     "start_time": "2024-05-23T13:37:34.366604",
     "status": "completed"
    },
    "tags": []
   },
   "outputs": [],
   "source": [
    "iris_setosa = data[data['species']=='setosa']\n",
    "iris_versicolor = data[data['species']=='versicolor']\n",
    "iris_virginica = data[data['species']=='virginica']"
   ]
  },
  {
   "cell_type": "code",
   "execution_count": 6,
   "id": "878edbeb",
   "metadata": {
    "execution": {
     "iopub.execute_input": "2024-05-23T13:37:34.396802Z",
     "iopub.status.busy": "2024-05-23T13:37:34.395645Z",
     "iopub.status.idle": "2024-05-23T13:37:34.404332Z",
     "shell.execute_reply": "2024-05-23T13:37:34.403055Z"
    },
    "papermill": {
     "duration": 0.016168,
     "end_time": "2024-05-23T13:37:34.406870",
     "exception": false,
     "start_time": "2024-05-23T13:37:34.390702",
     "status": "completed"
    },
    "tags": []
   },
   "outputs": [
    {
     "name": "stdout",
     "output_type": "stream",
     "text": [
      "[ 1  1  2  7 12 14  7  4  0  2]\n",
      "[1.   1.09 1.18 1.27 1.36 1.45 1.54 1.63 1.72 1.81 1.9 ]\n"
     ]
    }
   ],
   "source": [
    "counts, bin_edges = np.histogram(iris_setosa['PL'], bins=10)\n",
    "print(counts)\n",
    "print(bin_edges)"
   ]
  },
  {
   "cell_type": "code",
   "execution_count": 7,
   "id": "8d808065",
   "metadata": {
    "execution": {
     "iopub.execute_input": "2024-05-23T13:37:34.416850Z",
     "iopub.status.busy": "2024-05-23T13:37:34.415666Z",
     "iopub.status.idle": "2024-05-23T13:37:34.421888Z",
     "shell.execute_reply": "2024-05-23T13:37:34.420615Z"
    },
    "papermill": {
     "duration": 0.013622,
     "end_time": "2024-05-23T13:37:34.424238",
     "exception": false,
     "start_time": "2024-05-23T13:37:34.410616",
     "status": "completed"
    },
    "tags": []
   },
   "outputs": [
    {
     "name": "stdout",
     "output_type": "stream",
     "text": [
      "[0.02 0.02 0.04 0.14 0.24 0.28 0.14 0.08 0.   0.04]\n"
     ]
    }
   ],
   "source": [
    "pdf= counts/sum(counts)\n",
    "print(pdf)"
   ]
  },
  {
   "cell_type": "code",
   "execution_count": 8,
   "id": "3dac5fc0",
   "metadata": {
    "execution": {
     "iopub.execute_input": "2024-05-23T13:37:34.434209Z",
     "iopub.status.busy": "2024-05-23T13:37:34.433788Z",
     "iopub.status.idle": "2024-05-23T13:37:34.440202Z",
     "shell.execute_reply": "2024-05-23T13:37:34.438937Z"
    },
    "papermill": {
     "duration": 0.014377,
     "end_time": "2024-05-23T13:37:34.442563",
     "exception": false,
     "start_time": "2024-05-23T13:37:34.428186",
     "status": "completed"
    },
    "tags": []
   },
   "outputs": [
    {
     "name": "stdout",
     "output_type": "stream",
     "text": [
      "[0.02 0.04 0.08 0.22 0.46 0.74 0.88 0.96 0.96 1.  ]\n"
     ]
    }
   ],
   "source": [
    "cdf=np.cumsum(pdf)\n",
    "print(cdf)"
   ]
  },
  {
   "cell_type": "code",
   "execution_count": 9,
   "id": "a8f8cb2d",
   "metadata": {
    "execution": {
     "iopub.execute_input": "2024-05-23T13:37:34.452514Z",
     "iopub.status.busy": "2024-05-23T13:37:34.452097Z",
     "iopub.status.idle": "2024-05-23T13:37:34.747712Z",
     "shell.execute_reply": "2024-05-23T13:37:34.746531Z"
    },
    "papermill": {
     "duration": 0.303582,
     "end_time": "2024-05-23T13:37:34.750305",
     "exception": false,
     "start_time": "2024-05-23T13:37:34.446723",
     "status": "completed"
    },
    "tags": []
   },
   "outputs": [
    {
     "data": {
      "text/plain": [
       "[<matplotlib.lines.Line2D at 0x7fb99ca41ab0>]"
      ]
     },
     "execution_count": 9,
     "metadata": {},
     "output_type": "execute_result"
    },
    {
     "data": {
      "image/png": "[encoded data removed]",
      "text/plain": [
       "<Figure size 640x480 with 1 Axes>"
      ]
     },
     "metadata": {},
     "output_type": "display_data"
    }
   ],
   "source": [
    "plt.plot(bin_edges[1:], pdf)\n",
    "plt.plot(bin_edges[1:],cdf)"
   ]
  },
  {
   "cell_type": "code",
   "execution_count": 10,
   "id": "7cc659ab",
   "metadata": {
    "execution": {
     "iopub.execute_input": "2024-05-23T13:37:34.762054Z",
     "iopub.status.busy": "2024-05-23T13:37:34.760934Z",
     "iopub.status.idle": "2024-05-23T13:37:35.100513Z",
     "shell.execute_reply": "2024-05-23T13:37:35.099573Z"
    },
    "papermill": {
     "duration": 0.347827,
     "end_time": "2024-05-23T13:37:35.102778",
     "exception": false,
     "start_time": "2024-05-23T13:37:34.754951",
     "status": "completed"
    },
    "tags": []
   },
   "outputs": [
    {
     "data": {
      "text/plain": [
       "[<matplotlib.lines.Line2D at 0x7fb99c8dfa90>]"
      ]
     },
     "execution_count": 10,
     "metadata": {},
     "output_type": "execute_result"
    },
    {
     "data": {
      "image/png": "[encoded data removed]",
      "text/plain": [
       "<Figure size 640x480 with 1 Axes>"
      ]
     },
     "metadata": {},
     "output_type": "display_data"
    }
   ],
   "source": [
    "counts, bin_edges = np.histogram(iris_setosa['PL'], bins=10)\n",
    "pdf= counts/sum(counts)\n",
    "cdf=np.cumsum(pdf)\n",
    "plt.plot(bin_edges[1:], pdf)\n",
    "plt.plot(bin_edges[1:],cdf)\n",
    "\n",
    "counts, bin_edges = np.histogram(iris_versicolor['PL'], bins=10)\n",
    "pdf= counts/sum(counts)\n",
    "cdf=np.cumsum(pdf)\n",
    "plt.plot(bin_edges[1:], pdf)\n",
    "plt.plot(bin_edges[1:],cdf)\n",
    "\n",
    "counts, bin_edges = np.histogram(iris_virginica['PL'], bins=10)\n",
    "pdf= counts/sum(counts)\n",
    "cdf=np.cumsum(pdf)\n",
    "plt.plot(bin_edges[1:], pdf)\n",
    "plt.plot(bin_edges[1:],cdf)\n",
    "\n"
   ]
  }
 ],
 "metadata": {
  "kaggle": {
   "accelerator": "none",
   "dataSources": [
    {
     "datasetId": 2354152,
     "sourceId": 3966491,
     "sourceType": "datasetVersion"
    }
   ],
   "dockerImageVersionId": 30698,
   "isGpuEnabled": false,
   "isInternetEnabled": true,
   "language": "python",
   "sourceType": "notebook"
  },
  "kernelspec": {
   "display_name": "Python 3",
   "language": "python",
   "name": "python3"
  },
  "language_info": {
   "codemirror_mode": {
    "name": "ipython",
    "version": 3
   },
   "file_extension": ".py",
   "mimetype": "text/x-python",
   "name": "python",
   "nbconvert_exporter": "python",
   "pygments_lexer": "ipython3",
   "version": "3.10.13"
  },
  "papermill": {
   "default_parameters": {},
   "duration": 6.964291,
   "end_time": "2024-05-23T13:37:35.730186",
   "environment_variables": {},
   "exception": null,
   "input_path": "__notebook__.ipynb",
   "output_path": "__notebook__.ipynb",
   "parameters": {},
   "start_time": "2024-05-23T13:37:28.765895",
   "version": "2.5.0"
  }
 },
 "nbformat": 4,
 "nbformat_minor": 5
}
